{
 "cells": [
  {
   "cell_type": "markdown",
   "metadata": {},
   "source": [
    "# Longest path length in a Unweighted Graph\n",
    "Using DFS or Depth First Traversal through the graph. <br>\n",
    "dp[node] = max(dp[node], 1 + max(dp[child1], dp[child2], dp[child3]..))"
   ]
  },
  {
   "cell_type": "code",
   "execution_count": null,
   "metadata": {},
   "outputs": [],
   "source": [
    "def get_Input(graph) :\n",
    "    n = int(input('Enter the number of nodes in the graph :- '))\n",
    "    for i in range(n) :\n",
    "        name = input('Enter the name of the node :- ')\n",
    "        s = input('Enter all the adjascent nodes to this node seperated by a space :-')\n",
    "        if s == '' :\n",
    "            graph[name] = []\n",
    "        else :\n",
    "            adj = list(s.split(' '))\n",
    "            graph[name] = adj\n",
    "    node_start = input('Enter the starting node :- ')\n",
    "    return graph, node_start\n",
    "\n",
    "def DFS(node, graph, visited, dist) :\n",
    "    visited.append(node)\n",
    "    for v in graph[node] :\n",
    "        if v not in visited :\n",
    "            DFS(v, graph, visited, dist)\n",
    "        dist[node] = max(dist[node], 1+dist[v])\n",
    "    return\n",
    "\n",
    "def longest_Path_Length(graph, node) :\n",
    "    dist = {}\n",
    "    for v in graph.keys() :\n",
    "        dist[v] = 0\n",
    "    visited = []\n",
    "    for v in graph.keys() :\n",
    "        if v not in visited :\n",
    "            DFS(v, graph, visited, dist)\n",
    "    return dist\n",
    "\n",
    "graph = {}\n",
    "graph, node_start = get_Input(graph)\n",
    "# To Use the below example comment the line above and un-comment the line below.\n",
    "#graph, node_start = graph_1, node_start_1\n",
    "dist = longest_Path_Length(graph, node_start)\n",
    "print('The longest path to reach the respective nodes in terms of the number of nodes encountered from', node_start, 'is :-')\n",
    "for v, d in dist.items() :\n",
    "    print(v, ':', d)"
   ]
  },
  {
   "cell_type": "code",
   "execution_count": null,
   "metadata": {},
   "outputs": [],
   "source": [
    "# Example 1 :\n",
    "graph_1 = {1 : [2, 3],\n",
    "           2 : [4],\n",
    "           3 : [2, 4],\n",
    "           4 : []}\n",
    "node_start_1 = 1"
   ]
  },
  {
   "cell_type": "code",
   "execution_count": null,
   "metadata": {},
   "outputs": [],
   "source": []
  }
 ],
 "metadata": {
  "kernelspec": {
   "display_name": "Python 3",
   "language": "python",
   "name": "python3"
  },
  "language_info": {
   "codemirror_mode": {
    "name": "ipython",
    "version": 3
   },
   "file_extension": ".py",
   "mimetype": "text/x-python",
   "name": "python",
   "nbconvert_exporter": "python",
   "pygments_lexer": "ipython3",
   "version": "3.6.8"
  }
 },
 "nbformat": 4,
 "nbformat_minor": 2
}
