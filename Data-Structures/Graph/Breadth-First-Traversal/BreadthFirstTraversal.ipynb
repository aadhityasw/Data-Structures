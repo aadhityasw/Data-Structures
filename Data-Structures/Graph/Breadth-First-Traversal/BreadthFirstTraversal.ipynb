{
 "cells": [
  {
   "cell_type": "markdown",
   "metadata": {},
   "source": [
    "# Breadth First Traversal\n",
    "The following code constitutes a Breadth first traversing Algorithm for a graph starting at a node."
   ]
  },
  {
   "cell_type": "code",
   "execution_count": 5,
   "metadata": {},
   "outputs": [
    {
     "name": "stdin",
     "output_type": "stream",
     "text": [
      "Enter the number of nodes in the graph :-  6\n",
      "Enter the name of the node :-  a\n",
      "Enter all the adjascent nodes to this node seperated by a space :- b d\n",
      "Enter the name of the node :-  b\n",
      "Enter all the adjascent nodes to this node seperated by a space :- e\n",
      "Enter the name of the node :-  d\n",
      "Enter all the adjascent nodes to this node seperated by a space :- b\n",
      "Enter the name of the node :-  e\n",
      "Enter all the adjascent nodes to this node seperated by a space :- d\n",
      "Enter the name of the node :-  c\n",
      "Enter all the adjascent nodes to this node seperated by a space :- e f\n",
      "Enter the name of the node :-  f\n",
      "Enter all the adjascent nodes to this node seperated by a space :- f\n",
      "Enter the node to start the traversal :-  a\n"
     ]
    },
    {
     "name": "stdout",
     "output_type": "stream",
     "text": [
      "The Breadth first traversal from the node a is :- \n",
      "a\n",
      "b\n",
      "d\n",
      "e\n"
     ]
    }
   ],
   "source": [
    "# The code displays all the vertices that are reachable from a particular vertex.\n",
    "def BFS_Traversal(node, graph) :\n",
    "    level = {node : 0}\n",
    "    parent = {node : None}\n",
    "    i = 1\n",
    "    frontier = [node]\n",
    "    print(node)\n",
    "    while frontier :\n",
    "        next_frontier = []\n",
    "        for node_a in frontier :\n",
    "            for node_b in graph[node_a] :\n",
    "                if node_b not in level :\n",
    "                    print(node_b)\n",
    "                    level[node_b] = i\n",
    "                    parent[node_b] = node_a\n",
    "                    next_frontier.append(node_b)\n",
    "            frontier = next_frontier[:]\n",
    "            i += 1\n",
    "n = int(input('Enter the number of nodes in the graph :- '))\n",
    "graph = {}\n",
    "for i in range(n) :\n",
    "    name = input('Enter the name of the node :- ')\n",
    "    s = input('Enter all the adjascent nodes to this node seperated by a space :-')\n",
    "    if s == '' :\n",
    "        graph[name] = []\n",
    "    else :\n",
    "        adj = list(s.split(' '))\n",
    "        graph[name] = adj\n",
    "node = input('Enter the node to start the traversal :- ')\n",
    "print('The Breadth first traversal from the node', node, 'is :- ')\n",
    "BFS_Traversal(node, graph)"
   ]
  },
  {
   "cell_type": "code",
   "execution_count": null,
   "metadata": {},
   "outputs": [],
   "source": [
    "# Example 1 :- \n",
    "graph_1 = {'z' : ['a'],\n",
    "           'a' : ['s', 'z'],\n",
    "           's' : ['a', 'x'],\n",
    "           'x' : ['s', 'd', 'c'],\n",
    "           'd' : ['x', 'c', 'f'],\n",
    "           'c' : ['d', 'x', 'f', 'v'],\n",
    "           'v' : ['c', 'f'],\n",
    "           'f' : ['d', 'c', 'v']}\n",
    "\n",
    "# Example 2 :-  A disconnected graph.\n",
    "graph_2 = {'a' : ['b', 'd'],\n",
    "           'b' : ['e'],\n",
    "           'd' : ['b'],\n",
    "           'e' : ['d'],\n",
    "           'c' : ['e', 'f'],\n",
    "           'f' : ['f']}"
   ]
  },
  {
   "cell_type": "code",
   "execution_count": null,
   "metadata": {},
   "outputs": [],
   "source": []
  }
 ],
 "metadata": {
  "kernelspec": {
   "display_name": "Python 3",
   "language": "python",
   "name": "python3"
  },
  "language_info": {
   "codemirror_mode": {
    "name": "ipython",
    "version": 3
   },
   "file_extension": ".py",
   "mimetype": "text/x-python",
   "name": "python",
   "nbconvert_exporter": "python",
   "pygments_lexer": "ipython3",
   "version": "3.6.8"
  }
 },
 "nbformat": 4,
 "nbformat_minor": 2
}
