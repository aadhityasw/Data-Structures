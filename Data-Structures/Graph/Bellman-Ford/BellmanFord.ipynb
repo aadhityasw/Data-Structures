{
 "cells": [
  {
   "cell_type": "markdown",
   "metadata": {},
   "source": [
    "# Bellman Ford\n",
    "A Shortest path algorithm that works even with negative edge cycles.<br>\n",
    "It has a complexity of O(VE). <br>\n",
    "When we relax all the edges once, we actually iterate |V|-1 times through the vertices. We process all the edges |V|-1 times. So in the end of this time there should be no relaxation possible in a normal case, and if any such a case exists then a negative weight cycle exists and we report it."
   ]
  },
  {
   "cell_type": "code",
   "execution_count": null,
   "metadata": {},
   "outputs": [],
   "source": [
    "def Bellman_Ford(graph, source) :\n",
    "    # Initialization.\n",
    "    dist = {}\n",
    "    for vertex in graph :\n",
    "        dist[vertex] = float('Inf')\n",
    "    dist[source] = 0\n",
    "    # Relax all edges |V| - 1 times.\n",
    "    vertices = list(graph.keys())\n",
    "    for i in range(len(vertices)-2) :\n",
    "        for u in vertices :\n",
    "            for v, w in graph[u] :\n",
    "                if dist[u] != float('Inf') and dist[v] > dist[u] + w :\n",
    "                    dist[v] = dist[u] + w\n",
    "    # Check for negative-weight cycles.\n",
    "    for u in vertices :\n",
    "        for v, w in graph[u] :\n",
    "            if dist[u] != float('Inf') and dist[v] > dist[u] + w :\n",
    "                return False, {}\n",
    "    # There are no negative cycles.\n",
    "    return True, dist\n",
    "\n",
    "def get_Input(graph) :\n",
    "    n = int(input('Enter the number of edges in the graph :- '))\n",
    "    print('Enter the source, destination and the weight of the various edges seperated by a space :')\n",
    "    for i in range(n) :\n",
    "        inp = input('Enter the details of the edge :- ').split(' ')\n",
    "        if inp[0] not in graph :\n",
    "            graph[inp[0]] = []\n",
    "        graph[inp[0]].append((inp[1], int(inp[2])))\n",
    "        if inp[1] not in graph :\n",
    "            graph[inp[1]] = []\n",
    "    source = input('Enter the source node :- ')\n",
    "    return graph, source\n",
    "\n",
    "graph = {}\n",
    "visited = []\n",
    "stack = []\n",
    "graph, source = get_Input(graph)\n",
    "flag, dist = Bellman_Ford(graph, source)\n",
    "if flag == True :\n",
    "    print('The shortest paths from', source, 'are :-')\n",
    "    for vertex in dist.items() :\n",
    "        if vertex[0] != source :\n",
    "            print(vertex[0], ':', vertex[1])\n",
    "else :\n",
    "    print('The graph contains negative cycles.')"
   ]
  },
  {
   "cell_type": "code",
   "execution_count": null,
   "metadata": {},
   "outputs": [],
   "source": [
    "# Example 1 :\n",
    "graph_1 = {'A' : [('B', -1), ('C', 4)],\n",
    "           'B' : [('C', 3), ('D', 2), ('E', 2)],\n",
    "           'C' : [],\n",
    "           'D' : [('B', 1), ('C', 5)],\n",
    "           'E' : [('D', -3)]}\n",
    "source_1 = 'A'\n",
    "\n",
    "# Example 2 :\n",
    "graph_2 = {'A' : [('B', 10), ('C', 3)],\n",
    "           'B' : [('C', 1), ('D', 2)],\n",
    "           'C' : [('B', 4), ('E', 2), ('D', 8)],\n",
    "           'D' : [('E', 7)],\n",
    "           'E' : [('D', 9)]}\n",
    "source_2 = 'A'"
   ]
  },
  {
   "cell_type": "code",
   "execution_count": null,
   "metadata": {},
   "outputs": [],
   "source": []
  }
 ],
 "metadata": {
  "kernelspec": {
   "display_name": "Python 3",
   "language": "python",
   "name": "python3"
  },
  "language_info": {
   "codemirror_mode": {
    "name": "ipython",
    "version": 3
   },
   "file_extension": ".py",
   "mimetype": "text/x-python",
   "name": "python",
   "nbconvert_exporter": "python",
   "pygments_lexer": "ipython3",
   "version": "3.6.8"
  }
 },
 "nbformat": 4,
 "nbformat_minor": 2
}
