{
 "cells": [
  {
   "cell_type": "markdown",
   "metadata": {},
   "source": [
    "# Bidirectional search - Shortest Path in Unweighted and Undirected graphs\n",
    "We perform an alternative searching from both the source and the destination and when the two frontiers meet we find the shortest path."
   ]
  },
  {
   "cell_type": "code",
   "execution_count": 22,
   "metadata": {},
   "outputs": [
    {
     "name": "stdout",
     "output_type": "stream",
     "text": [
      "The complete path from 1 to 14 is :- \n",
      "1 --> 4 --> 6 --> 7 --> 8 --> 10 --> 14\n"
     ]
    }
   ],
   "source": [
    "def get_Input(graph) :\n",
    "    n = int(input('Enter the number of nodes in the graph :- '))\n",
    "    for i in range(n) :\n",
    "        name = input('Enter the name of the node :- ')\n",
    "        s = input('Enter all the adjascent nodes to this node seperated by a space :-')\n",
    "        if s == '' :\n",
    "            graph[name] = []\n",
    "        else :\n",
    "            adj = list(s.split(' '))\n",
    "            graph[name] = adj\n",
    "    node_start = input('Enter the starting node :- ')\n",
    "    node_end = input('Enter the ending node :- ')\n",
    "    return graph, node_start, node_end\n",
    "\n",
    "def bidirectional_Search(graph, node_start, node_end) :\n",
    "    parent_front = {}\n",
    "    parent_back = {}\n",
    "    present_front = [node_start]\n",
    "    present_back = [node_end]\n",
    "    visited_front = {node_start,}\n",
    "    visited_back = {node_end,}\n",
    "    frontier_front = []\n",
    "    frontier_back = []\n",
    "    while not bool(visited_front & visited_back) :\n",
    "        # Forward pass\n",
    "        for u in present_front :\n",
    "            for v in graph[u] :\n",
    "                if v not in visited_front :\n",
    "                    visited_front.add(v)\n",
    "                    parent_front[v] = u\n",
    "                    if v not in frontier_front :\n",
    "                        frontier_front.append(v)\n",
    "        present_front = frontier_front.copy()\n",
    "        frontier_front = []\n",
    "        # Check for intersection.\n",
    "        if bool(visited_front & visited_back) :\n",
    "            break\n",
    "        # Backward pass\n",
    "        for u in present_back :\n",
    "            for v in graph[u] :\n",
    "                if v not in visited_back :\n",
    "                    visited_back.add(v)\n",
    "                    parent_back[v] = u\n",
    "                    if v not in frontier_back :\n",
    "                        frontier_back.append(v)\n",
    "        present_back = frontier_back.copy()\n",
    "        frontier_back = []\n",
    "    path = []\n",
    "    intersect = (visited_front & visited_back).pop()\n",
    "    node = intersect\n",
    "    while node != node_start :\n",
    "        path.append(node)\n",
    "        node = parent_front[node]\n",
    "    path.append(node_start)\n",
    "    path.reverse()\n",
    "    node = intersect\n",
    "    while node != node_end :\n",
    "        node = parent_back[node]\n",
    "        path.append(node)\n",
    "    return path\n",
    "\n",
    "graph = {}\n",
    "graph, node_start, node_end = get_Input(graph)\n",
    "# Use the below line to use the example below.\n",
    "#graph, node_start, node_end = graph_1, node_start_1, node_end_1\n",
    "path = bidirectional_Search(graph, node_start, node_end)\n",
    "print('The complete path from', node_start, 'to', node_end, 'is :- ')\n",
    "for i in range(len(path)) :\n",
    "    if i != len(path)-1 :\n",
    "        print(path[i], end = ' --> ')\n",
    "    else :\n",
    "        print(path[i])"
   ]
  },
  {
   "cell_type": "code",
   "execution_count": 21,
   "metadata": {},
   "outputs": [],
   "source": [
    "# Example 1 :\n",
    "graph_1 = {0 : [4],\n",
    "           1 : [4],\n",
    "           2 : [5],\n",
    "           3 : [5],\n",
    "           4 : [0, 1, 6],\n",
    "           5 : [2, 3, 6],\n",
    "           6 : [4, 5, 7],\n",
    "           7 : [6, 8],\n",
    "           8 : [7, 9, 10],\n",
    "           9 : [8, 11, 12],\n",
    "           10 : [8, 13, 14],\n",
    "           11 : [9],\n",
    "           12 : [9],\n",
    "           13 : [10],\n",
    "           14 : [10]}\n",
    "node_start_1 = 1\n",
    "node_end_1 = 14"
   ]
  },
  {
   "cell_type": "code",
   "execution_count": null,
   "metadata": {},
   "outputs": [],
   "source": []
  }
 ],
 "metadata": {
  "kernelspec": {
   "display_name": "Python 3",
   "language": "python",
   "name": "python3"
  },
  "language_info": {
   "codemirror_mode": {
    "name": "ipython",
    "version": 3
   },
   "file_extension": ".py",
   "mimetype": "text/x-python",
   "name": "python",
   "nbconvert_exporter": "python",
   "pygments_lexer": "ipython3",
   "version": "3.6.8"
  }
 },
 "nbformat": 4,
 "nbformat_minor": 2
}
