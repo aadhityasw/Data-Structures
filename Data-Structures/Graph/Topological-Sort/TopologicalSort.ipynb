{
 "cells": [
  {
   "cell_type": "markdown",
   "metadata": {},
   "source": [
    "# Topological sort"
   ]
  },
  {
   "cell_type": "code",
   "execution_count": 5,
   "metadata": {},
   "outputs": [
    {
     "name": "stdin",
     "output_type": "stream",
     "text": [
      "Enter the number of nodes in the graph :-  6\n"
     ]
    },
    {
     "name": "stdout",
     "output_type": "stream",
     "text": [
      "Enter all the details of the nodes in the graph : \n"
     ]
    },
    {
     "name": "stdin",
     "output_type": "stream",
     "text": [
      "Enter the name of the node :-  5\n",
      "Enter all the adjascent nodes to this node seperated by a space :- 0 2\n",
      "Enter the name of the node :-  0\n",
      "Enter all the adjascent nodes to this node seperated by a space :- \n",
      "Enter the name of the node :-  2\n",
      "Enter all the adjascent nodes to this node seperated by a space :- 3\n",
      "Enter the name of the node :-  3\n",
      "Enter all the adjascent nodes to this node seperated by a space :- 1\n",
      "Enter the name of the node :-  4\n",
      "Enter all the adjascent nodes to this node seperated by a space :- 1\n",
      "Enter the name of the node :-  1\n",
      "Enter all the adjascent nodes to this node seperated by a space :- \n"
     ]
    },
    {
     "name": "stdout",
     "output_type": "stream",
     "text": [
      "{'5': ['0', '2'], '0': [], '2': ['3'], '3': ['1'], '4': ['1'], '1': []}\n",
      "The topologically sorted graph is :- \n",
      "4\n",
      "5\n",
      "2\n",
      "3\n",
      "1\n",
      "0\n"
     ]
    }
   ],
   "source": [
    "def topological_Sort(node, graph) :\n",
    "    global visited, stack\n",
    "    visited.append(node)\n",
    "    for vertex in graph[node] :\n",
    "        if vertex not in visited :\n",
    "            topological_Sort(vertex, graph)\n",
    "    stack.append(node)\n",
    "\n",
    "graph = {}\n",
    "n = int(input('Enter the number of nodes in the graph :- '))\n",
    "print('Enter all the details of the nodes in the graph : ')\n",
    "for i in range(n) :\n",
    "    name = input('Enter the name of the node :- ')\n",
    "    s = input('Enter all the adjascent nodes to this node seperated by a space :-')\n",
    "    if s == '' :\n",
    "        graph[name] = []\n",
    "    else :\n",
    "        adj = list(s.split(' '))\n",
    "        graph[name] = adj\n",
    "visited = []\n",
    "stack = []\n",
    "for node in graph :\n",
    "    if node not in visited :\n",
    "        topological_Sort(node, graph)\n",
    "stack.reverse()\n",
    "# As the elements in the list 'stack' in the reverse order constitutes the topologically sorted nodes of the graph.\n",
    "print('The topologically sorted graph is :- ')\n",
    "for vertex in stack :\n",
    "    print(vertex)"
   ]
  },
  {
   "cell_type": "code",
   "execution_count": 2,
   "metadata": {},
   "outputs": [],
   "source": [
    "graph_1 = {5 : [0, 2],\n",
    "           0 : [],\n",
    "           2 : [3],\n",
    "           3 : [1],\n",
    "           4 : [1],\n",
    "           1 : []}"
   ]
  },
  {
   "cell_type": "code",
   "execution_count": null,
   "metadata": {},
   "outputs": [],
   "source": []
  }
 ],
 "metadata": {
  "kernelspec": {
   "display_name": "Python 3",
   "language": "python",
   "name": "python3"
  },
  "language_info": {
   "codemirror_mode": {
    "name": "ipython",
    "version": 3
   },
   "file_extension": ".py",
   "mimetype": "text/x-python",
   "name": "python",
   "nbconvert_exporter": "python",
   "pygments_lexer": "ipython3",
   "version": "3.6.8"
  }
 },
 "nbformat": 4,
 "nbformat_minor": 2
}
