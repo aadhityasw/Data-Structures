{
 "cells": [
  {
   "cell_type": "markdown",
   "metadata": {},
   "source": [
    "# Hash Tables"
   ]
  },
  {
   "cell_type": "markdown",
   "metadata": {},
   "source": [
    "## Hashing with Chaining"
   ]
  },
  {
   "cell_type": "code",
   "execution_count": null,
   "metadata": {},
   "outputs": [],
   "source": [
    "# Sample Hash Function\n",
    "def hashfunc1(stri) :\n",
    "    summ = 0\n",
    "    stri.lower()\n",
    "    for i in range(len(stri)) :\n",
    "        summ += (ord(stri[i])-64)*(i+1)\n",
    "    return(summ)"
   ]
  },
  {
   "cell_type": "code",
   "execution_count": null,
   "metadata": {},
   "outputs": [],
   "source": [
    "n = int(input('Enter the number of words :- '))\n",
    "hashtable = []\n",
    "for i in range(20) :\n",
    "    hashtable.append([])\n",
    "for i in range(n) :\n",
    "    s = input().strip()\n",
    "    index = hashfunc1(s) % 19\n",
    "    hashtable[index].append(s)\n",
    "\n",
    "#print(hashtable)\n",
    "# Searching\n",
    "s = input('Enter the word to be found :- ')\n",
    "index = hashfunc1(s) % 19\n",
    "if s in hashtable[index] :\n",
    "    print('The entered word is present.')\n",
    "else :\n",
    "    print('The entered word is not present.')"
   ]
  },
  {
   "cell_type": "markdown",
   "metadata": {},
   "source": [
    "## Hashing with table Doubling"
   ]
  },
  {
   "cell_type": "code",
   "execution_count": null,
   "metadata": {},
   "outputs": [],
   "source": []
  }
 ],
 "metadata": {
  "kernelspec": {
   "display_name": "Python 3",
   "language": "python",
   "name": "python3"
  },
  "language_info": {
   "codemirror_mode": {
    "name": "ipython",
    "version": 3
   },
   "file_extension": ".py",
   "mimetype": "text/x-python",
   "name": "python",
   "nbconvert_exporter": "python",
   "pygments_lexer": "ipython3",
   "version": "3.6.8"
  }
 },
 "nbformat": 4,
 "nbformat_minor": 2
}
