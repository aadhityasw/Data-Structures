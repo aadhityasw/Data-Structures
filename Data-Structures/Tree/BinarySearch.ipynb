{
 "cells": [
  {
   "cell_type": "markdown",
   "metadata": {},
   "source": [
    "# Binary Search"
   ]
  },
  {
   "cell_type": "code",
   "execution_count": null,
   "metadata": {},
   "outputs": [],
   "source": [
    "# Binary Search\n",
    "def bina(l,low,high,a) :\n",
    "    mid=(low+high)//2\n",
    "    if low>high :\n",
    "        return False\n",
    "    elif a<l[mid] :\n",
    "        return(bina(l,low,mid-1,a))\n",
    "    elif a>l[mid] :\n",
    "        return(bina(l,low+1,high,a))\n",
    "    elif a==l[mid] :\n",
    "        return True\n",
    "n=int(input())\n",
    "l=[]\n",
    "for i in range(n) :\n",
    "    l.append(int(input()))\n",
    "l.sort()\n",
    "b=int(input())\n",
    "print(bina(l,0,len(l)-1,b))"
   ]
  }
 ],
 "metadata": {
  "kernelspec": {
   "display_name": "Python 3",
   "language": "python",
   "name": "python3"
  },
  "language_info": {
   "codemirror_mode": {
    "name": "ipython",
    "version": 3
   },
   "file_extension": ".py",
   "mimetype": "text/x-python",
   "name": "python",
   "nbconvert_exporter": "python",
   "pygments_lexer": "ipython3",
   "version": "3.6.8"
  }
 },
 "nbformat": 4,
 "nbformat_minor": 2
}
