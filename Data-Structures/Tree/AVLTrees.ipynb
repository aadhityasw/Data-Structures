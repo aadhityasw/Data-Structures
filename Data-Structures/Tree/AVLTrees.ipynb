{
 "cells": [
  {
   "cell_type": "markdown",
   "metadata": {},
   "source": [
    "# AVL Trees\n",
    "## AVL Sort\n",
    "The in-order traversal of an AVL tree is a sorted list."
   ]
  },
  {
   "cell_type": "code",
   "execution_count": 9,
   "metadata": {},
   "outputs": [
    {
     "name": "stdin",
     "output_type": "stream",
     "text": [
      " 10 20 30 40 50 25 2 11 222 33 43\n"
     ]
    },
    {
     "name": "stdout",
     "output_type": "stream",
     "text": [
      "2\n",
      "10\n",
      "11\n",
      "20\n",
      "25\n",
      "30\n",
      "33\n",
      "40\n",
      "43\n",
      "50\n",
      "222\n"
     ]
    }
   ],
   "source": [
    "class Tree :\n",
    "    def __init__(self, val) :\n",
    "        self.val = val\n",
    "        self.left = None\n",
    "        self.right = None\n",
    "        self.parent = None\n",
    "        self.height = 1\n",
    "\n",
    "class AVL_Tree :\n",
    "    def insert(self, root, key) :\n",
    "        if root is None :\n",
    "            return Tree(key)\n",
    "        elif root.val>key :\n",
    "            temp = self.insert(root.left, key)\n",
    "            root.left = temp\n",
    "            temp.parent = root\n",
    "        elif root.val<key :\n",
    "            temp = self.insert(root.right, key)\n",
    "            root.right = temp\n",
    "            temp.parent = root\n",
    "        \n",
    "        root.height = 1 + max(self.getHeight(root.left), self.getHeight(root.right))\n",
    "        balance = self.getBalance(root)\n",
    "        \n",
    "        if balance>1 and key<root.left.val :\n",
    "            return(self.rightRotate(root))\n",
    "        if balance<-1 and key>root.right.val :\n",
    "            return(self.leftRotate(root))\n",
    "        if balance>1 and key>root.left.val :\n",
    "            root.left = self.leftRotate(root.left)\n",
    "            return(self.rightRotate(root))\n",
    "        if balance<-1 and key<root.right.val :\n",
    "            root.right = self.rightRotate(root.right)\n",
    "            return(self.leftRotate(root))\n",
    "        \n",
    "        return(root)\n",
    "    \n",
    "    def leftRotate(self, root) :\n",
    "        a = root.right\n",
    "        b = a.left\n",
    "        a.parent = None\n",
    "        a.left = root\n",
    "        root.parent = a\n",
    "        root.right = b\n",
    "        if b is not None :\n",
    "            b.parent = root\n",
    "        \n",
    "        a.height = 1 + max(self.getHeight(a.left), self.getHeight(a.right))\n",
    "        root.height = 1 + max(self.getHeight(root.left), self.getHeight(root.right))\n",
    "        \n",
    "        return(a)\n",
    "    \n",
    "    def rightRotate(self, root) :\n",
    "        a = root.left\n",
    "        b = root.left.right\n",
    "        a.parent = None\n",
    "        a.right = root\n",
    "        root.parent = a\n",
    "        root.left = b\n",
    "        if b is not None :\n",
    "            b.parent = root\n",
    "        \n",
    "        a.height = 1 + max(self.getHeight(a.left), self.getHeight(a.right))\n",
    "        root.height = 1 + max(self.getHeight(root.left), self.getHeight(root.right))\n",
    "        \n",
    "        return(a)\n",
    "    \n",
    "    def getHeight(self, root) :\n",
    "        if not root :\n",
    "            return(0)\n",
    "        return(root.height)\n",
    "    \n",
    "    def getBalance(self, root) :\n",
    "        if not root :\n",
    "            return(-1)\n",
    "        return(self.getHeight(root.left) - self.getHeight(root.right))\n",
    "    \n",
    "    def inOrder(self, root) :\n",
    "        if root is not None :\n",
    "            self.inOrder(root.left)\n",
    "            print(root.val)\n",
    "            self.inOrder(root.right)\n",
    "\n",
    "root = None\n",
    "myTree = AVL_Tree()\n",
    "s = input()\n",
    "s = s.split(' ')\n",
    "for i in range(len(s)) :\n",
    "    root = myTree.insert(root, int(s[i]))\n",
    "\n",
    "myTree.inOrder(root)"
   ]
  }
 ],
 "metadata": {
  "kernelspec": {
   "display_name": "Python 3",
   "language": "python",
   "name": "python3"
  },
  "language_info": {
   "codemirror_mode": {
    "name": "ipython",
    "version": 3
   },
   "file_extension": ".py",
   "mimetype": "text/x-python",
   "name": "python",
   "nbconvert_exporter": "python",
   "pygments_lexer": "ipython3",
   "version": "3.6.8"
  }
 },
 "nbformat": 4,
 "nbformat_minor": 2
}
