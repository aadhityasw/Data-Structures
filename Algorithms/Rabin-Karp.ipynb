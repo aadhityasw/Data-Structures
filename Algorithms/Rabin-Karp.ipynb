{
 "cells": [
  {
   "cell_type": "markdown",
   "metadata": {},
   "source": [
    "# Rabin Karp Algorithm\n",
    "Searching for apattern in a long text using hashing.<br>\n",
    "The hashing used is to convert each character into its ascii form and then use base 256 to denote the number and is expressed inthe form of a mod-arithmatic of a prime number."
   ]
  },
  {
   "cell_type": "code",
   "execution_count": null,
   "metadata": {},
   "outputs": [],
   "source": [
    "d = 256\n",
    "def searching(pat, txt, q) :\n",
    "    global d\n",
    "    M = len(pat)\n",
    "    N = len(txt)\n",
    "    p = 0\n",
    "    t = 0\n",
    "    h = 1\n",
    "    cou = 0\n",
    "    for i in range(M-1) :\n",
    "        h = (h*d)%q\n",
    "    for i in range(M) :\n",
    "        p = ((d*p)+ord(pat[i]))%q\n",
    "        t = ((d*t)+ord(txt[i]))%q\n",
    "    for i in range(N-M+1) :\n",
    "        f=True\n",
    "        if p==t :\n",
    "            for j in range(M) :\n",
    "                if pat[j] != txt[i+j] :\n",
    "                    f = False\n",
    "                    break\n",
    "            if f==True :\n",
    "                cou += 1\n",
    "                print('The Pattern is found at index :- ', (i+1))\n",
    "        if i<(N-M) :\n",
    "            t = ((d*(t-(ord(txt[i])*h))) + ord(txt[i+M]))%q\n",
    "            if t<0 :\n",
    "                t += q\n",
    "    if cou == 0 :\n",
    "        print('The pattern entered is not found in the text entered.')\n",
    "\n",
    "txt = input('Enter text :- ').strip()\n",
    "pat = input('Enter the pattern to be searched :- ').strip()\n",
    "q = 101                                                     # Any Prime Number - denotes the range of the hashed values.\n",
    "searching(pat, txt, q)"
   ]
  },
  {
   "cell_type": "code",
   "execution_count": null,
   "metadata": {},
   "outputs": [],
   "source": []
  }
 ],
 "metadata": {
  "kernelspec": {
   "display_name": "Python 3",
   "language": "python",
   "name": "python3"
  },
  "language_info": {
   "codemirror_mode": {
    "name": "ipython",
    "version": 3
   },
   "file_extension": ".py",
   "mimetype": "text/x-python",
   "name": "python",
   "nbconvert_exporter": "python",
   "pygments_lexer": "ipython3",
   "version": "3.6.8"
  }
 },
 "nbformat": 4,
 "nbformat_minor": 2
}
