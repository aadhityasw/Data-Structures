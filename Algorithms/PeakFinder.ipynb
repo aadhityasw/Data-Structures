{
 "cells": [
  {
   "cell_type": "markdown",
   "metadata": {},
   "source": [
    "### Peak Finder 1D \n",
    "<br/>Used to find any one peak from a 1D array of numbers"
   ]
  },
  {
   "cell_type": "code",
   "execution_count": null,
   "metadata": {},
   "outputs": [],
   "source": [
    "n = input('Enter the number of numbers :- ')\n",
    "s = input('Enter the numbers :- ')\n",
    "s=s.split(' ')\n",
    "arr = [int(i) for i in s]\n",
    "\n",
    "def peak_finder_1d (arr) :\n",
    "    ub = len(arr)-1\n",
    "    lb = 0\n",
    "    if len(arr) == 1 :\n",
    "        return('No Peak Found')\n",
    "    mid = int((lb+ub)/2)\n",
    "    if (arr[mid]>arr[mid-1]) and (arr[mid]>arr[mid+1]) :\n",
    "        return(arr[mid])\n",
    "    elif (arr[mid]>arr[mid-1]) :\n",
    "        lb = mid + 1\n",
    "    elif (arr[mid]>arr[mid+1]) :\n",
    "        ub = mid - 1\n",
    "    elif (arr[mid+1]>arr[mid-1]) :\n",
    "        lb = mid + 1\n",
    "    elif (arr[mid+1]<arr[mid-1]) :\n",
    "        ub = mid - 1\n",
    "    return peak_finder_1d(arr[lb:ub+1])\n",
    "\n",
    "num = peak_finder_1d(arr)\n",
    "print(num)"
   ]
  },
  {
   "cell_type": "markdown",
   "metadata": {},
   "source": [
    "### Peak Finder 2D \n",
    "<br/>Used to find any one peak from a 2D array of numbers\n",
    "<br/>Greedy Ascent Algorithm fails in some cases"
   ]
  },
  {
   "cell_type": "code",
   "execution_count": null,
   "metadata": {},
   "outputs": [],
   "source": [
    "# Not Working\n",
    "\n",
    "s = input('Enter the number of rows and columns :- ')\n",
    "s = s.split(' ')\n",
    "r = int(s[0])\n",
    "c = int(s[1])\n",
    "arr = []\n",
    "print('Enter the numbers :- ')\n",
    "for i in range(r) :\n",
    "    s = input()\n",
    "    s=s.split(' ')\n",
    "    arr.append([int(j) for j in s])\n",
    "\n",
    "def peak_finder_1D (arr) :\n",
    "    ub = len(arr)-1\n",
    "    lb = 0\n",
    "    mid = int((lb+ub)/2)\n",
    "    if len(arr) == 1 :\n",
    "        return(mid)\n",
    "    if (arr[mid]>arr[mid-1]) and (arr[mid]>arr[mid+1]) :\n",
    "        return(mid)\n",
    "    elif (arr[mid]>arr[mid-1]) :\n",
    "        lb = mid + 1\n",
    "    elif (arr[mid]>arr[mid+1]) :\n",
    "        ub = mid - 1\n",
    "    elif (arr[mid+1]>arr[mid-1]) :\n",
    "        lb = mid + 1\n",
    "    elif (arr[mid+1]<arr[mid-1]) :\n",
    "        ub = mid - 1\n",
    "    return peak_finder_1D(arr[lb:ub+1])\n",
    "\n",
    "def peak_finder_2D(arr) :\n",
    "    m = int(c/2)\n",
    "    a = [arr[i][m] for i in range(len(arr))]\n",
    "    p = (peak_finder_1D(a), m)\n",
    "    arr2 = []\n",
    "    if(len(arr)==1) :\n",
    "        return(peak_finder_1D(arr[0]))\n",
    "    if (arr[p[0]][p[1]]  < arr[p[0]][p[1]-1]) :\n",
    "        arr2.append([arr[i][:m] for i in range(len(arr))])\n",
    "        peak_finder_2D(arr2)\n",
    "    elif (arr[p[0]][p[1]]  < arr[p[0]][p[1]+1]) :\n",
    "        arr2.append([arr[i][m+1:] for i in range(len(arr))])\n",
    "        peak_finder_2D(arr2)\n",
    "    else :\n",
    "        return(p)\n",
    "\n",
    "p = peak_finder_2D(arr)\n",
    "print(arr[p[0]][p[1]])"
   ]
  },
  {
   "cell_type": "code",
   "execution_count": null,
   "metadata": {},
   "outputs": [],
   "source": []
  }
 ],
 "metadata": {
  "kernelspec": {
   "display_name": "Python 3",
   "language": "python",
   "name": "python3"
  },
  "language_info": {
   "codemirror_mode": {
    "name": "ipython",
    "version": 3
   },
   "file_extension": ".py",
   "mimetype": "text/x-python",
   "name": "python",
   "nbconvert_exporter": "python",
   "pygments_lexer": "ipython3",
   "version": "3.6.8"
  }
 },
 "nbformat": 4,
 "nbformat_minor": 2
}
