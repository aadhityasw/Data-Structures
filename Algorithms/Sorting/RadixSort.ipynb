{
 "cells": [
  {
   "cell_type": "markdown",
   "metadata": {},
   "source": [
    "# Radix Sort"
   ]
  },
  {
   "cell_type": "markdown",
   "metadata": {},
   "source": [
    "## Using Counting Sort"
   ]
  },
  {
   "cell_type": "code",
   "execution_count": null,
   "metadata": {},
   "outputs": [],
   "source": [
    "def counting_Sort(arr, exp) :\n",
    "    out = [0 for _ in range(len(arr))]\n",
    "    count = [0 for _ in range(10)]\n",
    "    for i in arr :\n",
    "        index = i//exp\n",
    "        count[index%10] += 1\n",
    "    for i in range(1, 10) :\n",
    "        count[i] += count[i-1]\n",
    "    i = len(arr)-1\n",
    "    while i>=0 :\n",
    "        index = arr[i]//exp\n",
    "        out[count[index%10]-1] = arr[i]\n",
    "        count[index%10] -= 1\n",
    "        i -= 1\n",
    "    arr = [i for i in out]\n",
    "    return(arr)\n",
    "\n",
    "def radix_Sort(arr) :\n",
    "    exp = 1\n",
    "    ma = max(arr)\n",
    "    while ma//exp>0 :\n",
    "        arr = counting_Sort(arr, exp)\n",
    "        exp *= 10\n",
    "    return(arr)\n",
    "\n",
    "s = input()\n",
    "s = s.strip()\n",
    "s = list(map(int, s.split(' ')))\n",
    "ans = radix_Sort(s)\n",
    "print(ans)"
   ]
  },
  {
   "cell_type": "markdown",
   "metadata": {},
   "source": [
    "## Using General Programing Techniques"
   ]
  },
  {
   "cell_type": "code",
   "execution_count": 39,
   "metadata": {},
   "outputs": [
    {
     "name": "stdin",
     "output_type": "stream",
     "text": [
      " 1 5555555 2222222222222222\n"
     ]
    },
    {
     "name": "stdout",
     "output_type": "stream",
     "text": [
      "[1, 5555555, 2222222222222222]\n"
     ]
    }
   ],
   "source": [
    "def radix_Sort(arr) :\n",
    "    a = 1\n",
    "    t = True\n",
    "    while t :\n",
    "        ar = []\n",
    "        a *= 10\n",
    "        for i in arr :\n",
    "            ar.append(int((i%a)//(a/10)))\n",
    "        if len(ar) == ar.count(0) :\n",
    "            t = False\n",
    "            break\n",
    "        else :\n",
    "            pos = 0\n",
    "            for i in range(9) :\n",
    "                for j in range(len(ar)) :\n",
    "                    if ar[j] == i :\n",
    "                        arr.insert(pos, arr[j])\n",
    "                        arr.pop(j+1)\n",
    "                        ar.insert(pos, ar[j])\n",
    "                        ar.pop(j+1)\n",
    "                        pos+=1\n",
    "    return(arr)\n",
    "\n",
    "s = input()\n",
    "s = s.strip()\n",
    "s = list(map(int, s.split(' ')))\n",
    "ans = radix_Sort(s)\n",
    "print(ans)"
   ]
  },
  {
   "cell_type": "code",
   "execution_count": null,
   "metadata": {},
   "outputs": [],
   "source": []
  }
 ],
 "metadata": {
  "kernelspec": {
   "display_name": "Python 3",
   "language": "python",
   "name": "python3"
  },
  "language_info": {
   "codemirror_mode": {
    "name": "ipython",
    "version": 3
   },
   "file_extension": ".py",
   "mimetype": "text/x-python",
   "name": "python",
   "nbconvert_exporter": "python",
   "pygments_lexer": "ipython3",
   "version": "3.6.8"
  }
 },
 "nbformat": 4,
 "nbformat_minor": 2
}
