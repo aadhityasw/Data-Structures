{
 "cells": [
  {
   "cell_type": "markdown",
   "metadata": {},
   "source": [
    "# Bubble Sort"
   ]
  },
  {
   "cell_type": "code",
   "execution_count": null,
   "metadata": {},
   "outputs": [],
   "source": [
    "# Bubble Sort\n",
    "n=int(input('Enter the number of elements :'))\n",
    "p=[]\n",
    "for i in range(n) :\n",
    "    p.append(int(input()))\n",
    "for i in range(n) :\n",
    "    for j in range(n-i-1) :\n",
    "        if p[j]>p[j+1] :\n",
    "            p[j],p[j+1]=p[j+1],p[j]\n",
    "print(p)"
   ]
  }
 ],
 "metadata": {
  "kernelspec": {
   "display_name": "Python 3",
   "language": "python",
   "name": "python3"
  },
  "language_info": {
   "codemirror_mode": {
    "name": "ipython",
    "version": 3
   },
   "file_extension": ".py",
   "mimetype": "text/x-python",
   "name": "python",
   "nbconvert_exporter": "python",
   "pygments_lexer": "ipython3",
   "version": "3.6.8"
  }
 },
 "nbformat": 4,
 "nbformat_minor": 2
}
