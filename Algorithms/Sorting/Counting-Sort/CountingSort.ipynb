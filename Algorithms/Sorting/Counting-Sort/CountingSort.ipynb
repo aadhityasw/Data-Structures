{
 "cells": [
  {
   "cell_type": "code",
   "execution_count": 22,
   "metadata": {},
   "outputs": [
    {
     "name": "stdin",
     "output_type": "stream",
     "text": [
      " 1 2 3 3 2 1\n"
     ]
    },
    {
     "name": "stdout",
     "output_type": "stream",
     "text": [
      "['1', '1', '2', '2', '3', '3']\n"
     ]
    }
   ],
   "source": [
    "def counting_sort(arr) :\n",
    "    out = [0 for _ in range(256)]\n",
    "    count = [0 for _ in range(256)]\n",
    "    for i in arr :\n",
    "        count[ord(i)] += 1\n",
    "    for i in range(256) :\n",
    "        count[i] += count[i-1]\n",
    "    for i in arr :\n",
    "        out[count[ord(i)]-1] = i\n",
    "        count[ord(i)] -= 1\n",
    "    out = out[:len(arr)]\n",
    "    return(out)\n",
    "\n",
    "s = input()\n",
    "s = s.strip()\n",
    "s = s.split(' ')\n",
    "ans = counting_sort(s)\n",
    "print(ans)"
   ]
  },
  {
   "cell_type": "code",
   "execution_count": null,
   "metadata": {},
   "outputs": [],
   "source": []
  }
 ],
 "metadata": {
  "kernelspec": {
   "display_name": "Python 3",
   "language": "python",
   "name": "python3"
  },
  "language_info": {
   "codemirror_mode": {
    "name": "ipython",
    "version": 3
   },
   "file_extension": ".py",
   "mimetype": "text/x-python",
   "name": "python",
   "nbconvert_exporter": "python",
   "pygments_lexer": "ipython3",
   "version": "3.6.8"
  }
 },
 "nbformat": 4,
 "nbformat_minor": 2
}
