{
 "cells": [
  {
   "cell_type": "markdown",
   "metadata": {},
   "source": [
    "## Merge Sort\n",
    "\n",
    "Has O(n) auxillary space as it forms a copy of l and r trees and then merges them."
   ]
  },
  {
   "cell_type": "code",
   "execution_count": 17,
   "metadata": {},
   "outputs": [
    {
     "name": "stdin",
     "output_type": "stream",
     "text": [
      " 1 3 2 5 4\n"
     ]
    },
    {
     "name": "stdout",
     "output_type": "stream",
     "text": [
      "[1, 2, 3, 4, 5]\n"
     ]
    }
   ],
   "source": [
    "def merge_sort(arr) :\n",
    "    if(len(arr)==1) :\n",
    "        return(arr)\n",
    "    mid = len(arr)//2\n",
    "    r = arr[mid:]\n",
    "    l = arr[:mid]\n",
    "    r = merge_sort(r)\n",
    "    l = merge_sort(l)\n",
    "    arr = merge_array(l,r)\n",
    "    return(arr)\n",
    "\n",
    "def merge_array(arr1, arr2) :\n",
    "    arr = []\n",
    "    i=0\n",
    "    j=0\n",
    "    while i<len(arr1) and j<len(arr2) :\n",
    "        if(arr1[i]<=arr2[j]) :\n",
    "            arr.append(arr1[i])\n",
    "            i+=1\n",
    "        else :\n",
    "            arr.append(arr2[j])\n",
    "            j+=1\n",
    "    '''while i<len(arr1) :\n",
    "        arr.append(arr1[i])\n",
    "        i+=1\n",
    "    while j<len(arr2) :\n",
    "        arr.append(arr2[j])\n",
    "        j+=1'''\n",
    "    if(i<len(arr1)) :\n",
    "        arr += arr1[i:]\n",
    "    elif j<len(arr2) :\n",
    "        arr += arr2[j:]\n",
    "    return(arr)\n",
    "\n",
    "s = input()\n",
    "s = s.split(' ')\n",
    "arr = [int(i) for i in s]\n",
    "arr = merge_sort(arr)\n",
    "print(arr)"
   ]
  },
  {
   "cell_type": "code",
   "execution_count": null,
   "metadata": {},
   "outputs": [],
   "source": []
  }
 ],
 "metadata": {
  "kernelspec": {
   "display_name": "Python 3",
   "language": "python",
   "name": "python3"
  },
  "language_info": {
   "codemirror_mode": {
    "name": "ipython",
    "version": 3
   },
   "file_extension": ".py",
   "mimetype": "text/x-python",
   "name": "python",
   "nbconvert_exporter": "python",
   "pygments_lexer": "ipython3",
   "version": "3.6.8"
  }
 },
 "nbformat": 4,
 "nbformat_minor": 2
}
