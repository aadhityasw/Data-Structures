{
 "cells": [
  {
   "cell_type": "markdown",
   "metadata": {},
   "source": [
    "## Insertion Sort\n",
    "### O(n^2) Complexity"
   ]
  },
  {
   "cell_type": "code",
   "execution_count": null,
   "metadata": {},
   "outputs": [],
   "source": [
    "s = input()\n",
    "s = s.split(' ')\n",
    "arr = [int(i) for i in s]\n",
    "for i in range(1, len(arr)) :\n",
    "    j=0\n",
    "    while arr[j]<arr[i] and j<=i :\n",
    "        j+=1\n",
    "    for k in range(i,j,-1) :\n",
    "        arr[k], arr[k-1] = arr[k-1] , arr[k]\n",
    "print(arr)"
   ]
  },
  {
   "cell_type": "code",
   "execution_count": null,
   "metadata": {},
   "outputs": [],
   "source": [
    "# Insertion Sort\n",
    "n=int(input('Enter the number of elements :'))\n",
    "p=[]\n",
    "for i in range(n) :\n",
    "    p.append(int(input()))\n",
    "for i in range(n-1) :\n",
    "    j=i+1\n",
    "    for k in range(i+1) :\n",
    "        if p[j]<p[k] :\n",
    "            a=p[j]\n",
    "            for c in range(j,k,-1) :\n",
    "                p[c]=p[c-1]\n",
    "            p[c-1]=a\n",
    "print(p)"
   ]
  },
  {
   "cell_type": "markdown",
   "metadata": {},
   "source": [
    "## Insertion sort with binary search\n",
    "### O(nlog(n)) Complexity"
   ]
  },
  {
   "cell_type": "code",
   "execution_count": null,
   "metadata": {
    "slideshow": {
     "slide_type": "-"
    }
   },
   "outputs": [],
   "source": [
    "def binarysearch(arr,n,lb,ub) :\n",
    "    mid = (lb+ub)//2\n",
    "    if(lb==ub) :\n",
    "        if arr[mid]>n :\n",
    "            return(mid)\n",
    "        else :\n",
    "            return(mid+1)\n",
    "    if lb>ub :\n",
    "        return(mid)\n",
    "    if(arr[mid]==n) :\n",
    "        return(mid)\n",
    "    elif(arr[mid]<n) :\n",
    "        return(binarysearch(arr, n, mid+1,ub))\n",
    "    else :\n",
    "        return(binarysearch(arr, n, lb, mid-1))\n",
    "    \n",
    "s = input()\n",
    "s = s.split(' ')\n",
    "arr = [int(i) for i in s]\n",
    "for i in range(1, len(arr)) :\n",
    "    arr2 = arr[:i]\n",
    "    j = binarysearch(arr2, arr[i], 0, i-1)\n",
    "    #for k in range(i,j,-1) :\n",
    "    #    arr[k], arr[k-1] = arr[k-1] , arr[k]\n",
    "    arr = arr[:j] + [arr[i]] + arr[j:i] + arr[i+1:]\n",
    "print(arr)"
   ]
  }
 ],
 "metadata": {
  "kernelspec": {
   "display_name": "Python 3",
   "language": "python",
   "name": "python3"
  },
  "language_info": {
   "codemirror_mode": {
    "name": "ipython",
    "version": 3
   },
   "file_extension": ".py",
   "mimetype": "text/x-python",
   "name": "python",
   "nbconvert_exporter": "python",
   "pygments_lexer": "ipython3",
   "version": "3.6.8"
  }
 },
 "nbformat": 4,
 "nbformat_minor": 2
}
