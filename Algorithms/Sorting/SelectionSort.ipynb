{
 "cells": [
  {
   "cell_type": "markdown",
   "metadata": {},
   "source": [
    "# Selection Sort"
   ]
  },
  {
   "cell_type": "code",
   "execution_count": null,
   "metadata": {},
   "outputs": [],
   "source": [
    "# Selection Sort\n",
    "n=int(input('Enter the number of elements :'))\n",
    "p=[]\n",
    "for i in range(n) :\n",
    "    p.append(int(input()))\n",
    "for i in range(n) :\n",
    "    mina=i\n",
    "    for j in range(i+1,n) :\n",
    "        if p[mina]>p[j] :\n",
    "            mina=j\n",
    "    p[i],p[mina]=p[mina],p[i]\n",
    "print(p)"
   ]
  }
 ],
 "metadata": {
  "kernelspec": {
   "display_name": "Python 3",
   "language": "python",
   "name": "python3"
  },
  "language_info": {
   "codemirror_mode": {
    "name": "ipython",
    "version": 3
   },
   "file_extension": ".py",
   "mimetype": "text/x-python",
   "name": "python",
   "nbconvert_exporter": "python",
   "pygments_lexer": "ipython3",
   "version": "3.6.8"
  }
 },
 "nbformat": 4,
 "nbformat_minor": 2
}
