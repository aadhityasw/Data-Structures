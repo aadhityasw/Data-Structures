{
 "cells": [
  {
   "cell_type": "markdown",
   "metadata": {},
   "source": [
    "# Linear Search"
   ]
  },
  {
   "cell_type": "code",
   "execution_count": null,
   "metadata": {},
   "outputs": [],
   "source": [
    "# Linear Search / Sequential Search\n",
    "n=int(input('Enter the number of elements :'))\n",
    "print('Enter the elements :')\n",
    "p=[]\n",
    "f=False\n",
    "for i in range(n) :\n",
    "    p.append(int(input()))\n",
    "no=int(input('Enter the element to be found :'))\n",
    "for i in range(n) :\n",
    "    if p[i]==no :\n",
    "        f=True\n",
    "        break\n",
    "if f==True :\n",
    "    print('The number has been found.')\n",
    "else :\n",
    "    print('The number has not been found.')"
   ]
  }
 ],
 "metadata": {
  "kernelspec": {
   "display_name": "Python 3",
   "language": "python",
   "name": "python3"
  },
  "language_info": {
   "codemirror_mode": {
    "name": "ipython",
    "version": 3
   },
   "file_extension": ".py",
   "mimetype": "text/x-python",
   "name": "python",
   "nbconvert_exporter": "python",
   "pygments_lexer": "ipython3",
   "version": "3.6.8"
  }
 },
 "nbformat": 4,
 "nbformat_minor": 2
}
