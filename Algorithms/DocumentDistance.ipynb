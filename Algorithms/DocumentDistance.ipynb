{
 "cells": [
  {
   "cell_type": "markdown",
   "metadata": {},
   "source": [
    "# Document Distance\n",
    "For each input file, a word-frequency vector is computed as follows:<br>\n",
    "The paragraph is read in and is converted into a list of alphanumeric \"words\". Here a \"word\" is a sequence of consecutive alphanumeric characters. Non-alphanumeric characters are treated as blanks, and can be igored in the process.<br>\n",
    "For each word, its frequency of occurrence is determined and the word/frequency lists are sorted into order alphabetically.<br><br>\n",
    "The \"distance\" between two vectors is the angle between them."
   ]
  },
  {
   "cell_type": "code",
   "execution_count": 13,
   "metadata": {},
   "outputs": [
    {
     "name": "stdin",
     "output_type": "stream",
     "text": [
      "Enter the first text :  hi how are you\n",
      "Enter the second text :  are you fine!\n"
     ]
    },
    {
     "name": "stdout",
     "output_type": "stream",
     "text": [
      "The distance in radians is : 0.955317\n"
     ]
    }
   ],
   "source": [
    "import math\n",
    "\n",
    "def get_Words(paragraph) :\n",
    "    # To split the paragraph into words.\n",
    "    text = ''\n",
    "    for c in paragraph :\n",
    "        if c.isalnum() :\n",
    "            if c.isalpha() and c.isupper() :\n",
    "                text += c.lower()\n",
    "            else :\n",
    "                text += c\n",
    "        elif c.isspace() :\n",
    "            text += c\n",
    "    words = text.split(' ')\n",
    "    return words\n",
    "\n",
    "def count_Frequency(words) :\n",
    "    # To find the freqency of each word in the paragraph.\n",
    "    frequency = {}\n",
    "    for word in words :\n",
    "        if word in frequency :\n",
    "            frequency[word] += 1\n",
    "        else :\n",
    "            frequency[word] = 1\n",
    "    return frequency\n",
    "\n",
    "def process_Text(text) :\n",
    "    # To process each set of text.\n",
    "    words = get_Words(text)\n",
    "    frequencyMap = count_Frequency(words)\n",
    "    return frequencyMap\n",
    "\n",
    "def scalar_Product(T1, T2) :\n",
    "    # Calculates the scalar/dot/inner product of the two frequency maps.\n",
    "    # inner_product({\"and\":3,\"of\":2,\"the\":5},{\"and\":4,\"in\":1,\"of\":1,\"this\":2}) = 14.0.\n",
    "    summ = 0\n",
    "    for word in T1 :\n",
    "        if word in T2 :\n",
    "            summ += (T1[word] * T2[word])\n",
    "    return summ\n",
    "\n",
    "def vector_Angle(T1, T2) :\n",
    "    # Calculates the vector angle between the two vectors.\n",
    "    numerator = scalar_Product(T1, T2)\n",
    "    pro = scalar_Product(T1, T1) * scalar_Product(T2, T2)\n",
    "    denominator = pow(pro, (1/2))\n",
    "    angle = math.acos(numerator/denominator)\n",
    "    return angle\n",
    "\n",
    "def get_Input() :\n",
    "    # Recieves two paragraphs of text from the user console.\n",
    "    text1 = input('Enter the first text : ')\n",
    "    text2 = input('Enter the second text : ')\n",
    "    return text1, text2\n",
    "\n",
    "text1, text2 = get_Input()\n",
    "freq1 = process_Text(text1)\n",
    "freq2 = process_Text(text2)\n",
    "distance = vector_Angle(freq1, freq2)\n",
    "print('The distance in radians is : %0.6f'%distance)"
   ]
  },
  {
   "cell_type": "code",
   "execution_count": null,
   "metadata": {},
   "outputs": [],
   "source": []
  }
 ],
 "metadata": {
  "kernelspec": {
   "display_name": "Python 3",
   "language": "python",
   "name": "python3"
  },
  "language_info": {
   "codemirror_mode": {
    "name": "ipython",
    "version": 3
   },
   "file_extension": ".py",
   "mimetype": "text/x-python",
   "name": "python",
   "nbconvert_exporter": "python",
   "pygments_lexer": "ipython3",
   "version": "3.6.8"
  }
 },
 "nbformat": 4,
 "nbformat_minor": 2
}
