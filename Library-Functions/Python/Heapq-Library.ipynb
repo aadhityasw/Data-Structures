{
 "metadata": {
  "language_info": {
   "codemirror_mode": {
    "name": "ipython",
    "version": 3
   },
   "file_extension": ".py",
   "mimetype": "text/x-python",
   "name": "python",
   "nbconvert_exporter": "python",
   "pygments_lexer": "ipython3",
   "version": "3.8.3-final"
  },
  "orig_nbformat": 2,
  "kernelspec": {
   "name": "python3",
   "display_name": "Python 3.8.3 64-bit ('base': conda)",
   "metadata": {
    "interpreter": {
     "hash": "ff885020a3c02da1d8ec5e25439164c57a25e81b50d9daf55f9162f51f16c208"
    }
   }
  }
 },
 "nbformat": 4,
 "nbformat_minor": 2,
 "cells": [
  {
   "source": [
    "# Heapq Library\n",
    "\n",
    "We will discuss the implementation of heaps using this library, and also a few tricks which can be used to make this more robust to be applicable in heaps of all scenarios."
   ],
   "cell_type": "markdown",
   "metadata": {}
  },
  {
   "source": [
    "Let us deal with a min-heap in all cases, because `heapify` operation performs operations to form `min-heap` by default. For a `max-heap` we would just have to negate the values as they are put in and taken from the heap. "
   ],
   "cell_type": "markdown",
   "metadata": {}
  },
  {
   "cell_type": "code",
   "execution_count": 2,
   "metadata": {},
   "outputs": [],
   "source": [
    "# Importing the heapq library\n",
    "\n",
    "import heapq"
   ]
  },
  {
   "source": [
    "## 1. Basic Implementation\n",
    "\n",
    "We deal with the basic heap implementation using this library, where each item in the heap is just an integer."
   ],
   "cell_type": "markdown",
   "metadata": {}
  },
  {
   "cell_type": "code",
   "execution_count": 2,
   "metadata": {},
   "outputs": [
    {
     "output_type": "stream",
     "name": "stdout",
     "text": [
      "Heap after heapify operation :  [1, 3, 2, 5, 7]\n"
     ]
    }
   ],
   "source": [
    "# Declaring the initial array\n",
    "arr = [7, 1, 2, 5, 3]\n",
    "\n",
    "# Heapify the heap\n",
    "heap1_1 = arr[:]\n",
    "heapq.heapify(heap1_1)\n",
    "print(\"Heap after heapify operation : \", heap1_1)"
   ]
  },
  {
   "cell_type": "code",
   "execution_count": 4,
   "metadata": {},
   "outputs": [
    {
     "output_type": "execute_result",
     "data": {
      "text/plain": [
       "[1, 3, 2, 5, 7, 4]"
      ]
     },
     "metadata": {},
     "execution_count": 4
    }
   ],
   "source": [
    "# Push a number into the heap\n",
    "heapq.heappush(heap1_1, 4)\n",
    "heap1_1"
   ]
  },
  {
   "cell_type": "code",
   "execution_count": 5,
   "metadata": {},
   "outputs": [
    {
     "output_type": "stream",
     "name": "stdout",
     "text": [
      "1 has been popped out\n"
     ]
    },
    {
     "output_type": "execute_result",
     "data": {
      "text/plain": [
       "[2, 3, 4, 5, 7]"
      ]
     },
     "metadata": {},
     "execution_count": 5
    }
   ],
   "source": [
    "# Pop a number\n",
    "num = heapq.heappop(heap1_1)\n",
    "print(num, \"has been popped out\")\n",
    "\n",
    "heap1_1"
   ]
  },
  {
   "source": [
    "`Heappushpop` and `Heapreplace` operations.\n",
    "\n",
    "These are different in nature, the former function first performs a `push` operation, and then a `pop` operation both occuring one after the other in order.\n",
    "\n",
    "While the latter function performs a `pop` operation and then a `push` operation in order. This is used when the smallest number in the current heap needs to be popped irrespective of the number pushed in."
   ],
   "cell_type": "markdown",
   "metadata": {}
  },
  {
   "cell_type": "code",
   "execution_count": 6,
   "metadata": {},
   "outputs": [
    {
     "output_type": "stream",
     "name": "stdout",
     "text": [
      "2 has been popped out\n"
     ]
    },
    {
     "output_type": "execute_result",
     "data": {
      "text/plain": [
       "[3, 4, 9, 5, 7]"
      ]
     },
     "metadata": {},
     "execution_count": 6
    }
   ],
   "source": [
    "# Demonstrates the heappushpop operation\n",
    "heap1_2 = [5, 7, 9, 4, 3]\n",
    "heapq.heapify(heap1_2)\n",
    "num = heapq.heappushpop(heap1_2, 2)\n",
    "print(num, \"has been popped out\")\n",
    "\n",
    "heap1_2"
   ]
  },
  {
   "cell_type": "code",
   "execution_count": 7,
   "metadata": {},
   "outputs": [
    {
     "output_type": "stream",
     "name": "stdout",
     "text": [
      "3 has been popped out\n"
     ]
    },
    {
     "output_type": "execute_result",
     "data": {
      "text/plain": [
       "[2, 4, 9, 5, 7]"
      ]
     },
     "metadata": {},
     "execution_count": 7
    }
   ],
   "source": [
    "# Demonstrates the heapreplace operation\n",
    "heap1_3 = [5, 7, 9, 4, 3]\n",
    "heapq.heapify(heap1_3)\n",
    "num = heapq.heapreplace(heap1_3, 2)\n",
    "print(num, \"has been popped out\")\n",
    "\n",
    "heap1_3"
   ]
  },
  {
   "source": [
    "## 2. `Heapq` with complex objects\n",
    "\n",
    "\n",
    "Here, we will use custom class and objects, and use these as the elements to be entered into the heap, let us see how we can manage these, and we will also look in detail how heapq library manages all these."
   ],
   "cell_type": "markdown",
   "metadata": {}
  },
  {
   "source": [
    "class Node :\n",
    "    def __init__(self, name, x=0) :\n",
    "        self.name = name\n",
    "        self.data = x\n",
    "    \n",
    "    def __repr__(self) :\n",
    "        return \"( \" + self.name + \" - \" + str(self.data) + \" )\"\n",
    "    \n",
    "    def __lt__(self, ob) :\n",
    "        \"\"\"\n",
    "        Overrides the less than operator.\n",
    "        \"\"\"\n",
    "        return self.data < ob.data"
   ],
   "cell_type": "code",
   "metadata": {},
   "execution_count": 8,
   "outputs": []
  },
  {
   "source": [
    "Here the heap elements are objects, a few points to note are :\n",
    "* The `heapify` operation proceeds by taking the objects as values, and then used the `<` operator to perform the comparisons while arranging the elements in the heap. As we have overridden this operation inside the class in the form of the `__lt__` function, the `heapify` operation uses this to compare the objects, thereby re-arranging them to form a `min-heap`.\n",
    "* The other functions of the `heapq` library proceed in a similar manner.\n",
    "* We can define our own custom function in this form to perform comparisons of any kind."
   ],
   "cell_type": "markdown",
   "metadata": {}
  },
  {
   "cell_type": "code",
   "execution_count": 9,
   "metadata": {},
   "outputs": [
    {
     "output_type": "execute_result",
     "data": {
      "text/plain": [
       "[( E - 2 ), ( B - 8 ), ( C - 5 ), ( D - 9 ), ( A - 10 )]"
      ]
     },
     "metadata": {},
     "execution_count": 9
    }
   ],
   "source": [
    "heap2_1 = [\n",
    "    Node(\"A\", 10),\n",
    "    Node(\"B\", 8),\n",
    "    Node(\"C\", 5),\n",
    "    Node(\"D\", 9),\n",
    "    Node(\"E\", 2),\n",
    "]\n",
    "\n",
    "heapq.heapify(heap2_1)\n",
    "heap2_1"
   ]
  },
  {
   "source": [
    "## 3. `Heapq` with Custom Predicate\n",
    "\n",
    "Here we will use a tuple of values which we will use as the elements of the heap.\n",
    "A few points to note here are :\n",
    "* The comparison operations start by performing comparisons on the first element of the tuples, and if they are equal, then the comparison is done on the second elements of the tuple, and this process goes on till we can compare all the elements and form the heap. \n",
    "* A similar comparison strategy is followed for all the `heapq` functions."
   ],
   "cell_type": "markdown",
   "metadata": {}
  },
  {
   "cell_type": "code",
   "execution_count": 13,
   "metadata": {},
   "outputs": [
    {
     "output_type": "execute_result",
     "data": {
      "text/plain": [
       "[(4, 'B'), (4, 'E'), (5, 'C'), (8, 'D'), (5, 'A')]"
      ]
     },
     "metadata": {},
     "execution_count": 13
    }
   ],
   "source": [
    "heap3_1 = [\n",
    "    (5, 'A'),\n",
    "    (4, 'B'),\n",
    "    (5, 'C'),\n",
    "    (8, 'D'),\n",
    "    (4, 'E')\n",
    "]\n",
    "\n",
    "heapq.heapify(heap3_1)\n",
    "heap3_1"
   ]
  },
  {
   "source": [
    "Notice here that `(4, B)` is placed above `(4, E)` because `B < E` in terms of their `ASCII` values."
   ],
   "cell_type": "markdown",
   "metadata": {}
  },
  {
   "source": [
    "Similarly, we can also build a heap from a dict and perform the heap operations similar to the ones we saw now."
   ],
   "cell_type": "markdown",
   "metadata": {}
  },
  {
   "cell_type": "code",
   "execution_count": 16,
   "metadata": {},
   "outputs": [
    {
     "output_type": "execute_result",
     "data": {
      "text/plain": [
       "[(2, 'e'), (4, 'c'), (9, 'b'), (14, 'd'), (5, 'a')]"
      ]
     },
     "metadata": {},
     "execution_count": 16
    }
   ],
   "source": [
    "dict3_2 = {\n",
    "    5 : 'a',\n",
    "    4 : 'c',\n",
    "    9 : 'b',\n",
    "    14 : 'd',\n",
    "    2 : 'e'\n",
    "}\n",
    "\n",
    "# Convert this into tuple\n",
    "heap3_2 = [(k, v) for (k, v) in dict3_2.items()]\n",
    "heapq.heapify(heap3_2)\n",
    "heap3_2"
   ]
  },
  {
   "cell_type": "code",
   "execution_count": null,
   "metadata": {},
   "outputs": [],
   "source": []
  }
 ]
}