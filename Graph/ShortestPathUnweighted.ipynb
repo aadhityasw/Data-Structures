{
 "cells": [
  {
   "cell_type": "markdown",
   "metadata": {},
   "source": [
    "# Shortest path in Unweighted graph\n",
    "This uses BFS or the Breadth First Search Algorithm to traverse through the graph."
   ]
  },
  {
   "cell_type": "code",
   "execution_count": 10,
   "metadata": {},
   "outputs": [
    {
     "name": "stdin",
     "output_type": "stream",
     "text": [
      "Enter the starting node :-  s\n",
      "Enter the ending node :-  f\n"
     ]
    },
    {
     "name": "stdout",
     "output_type": "stream",
     "text": [
      "The shortest path from s to f is :- \n",
      "s --> x --> d --> f\n"
     ]
    }
   ],
   "source": [
    "def BFS_Traversal(node, graph) :\n",
    "    level = {node : 0}\n",
    "    parent = {node : None}\n",
    "    i = 1\n",
    "    frontier = [node]\n",
    "    while frontier :\n",
    "        next_frontier = []\n",
    "        for node_a in frontier :\n",
    "            for node_b in graph[node_a] :\n",
    "                if node_b not in level :\n",
    "                    level[node_b] = i\n",
    "                    parent[node_b] = node_a\n",
    "                    next_frontier.append(node_b)\n",
    "            frontier = next_frontier[:]\n",
    "            i += 1\n",
    "    return parent\n",
    "\n",
    "def find_Shortest_Path(parent, node_start, node_end) :\n",
    "    path = [node_end]\n",
    "    counter = node_end\n",
    "    while counter != node_start :\n",
    "        path.append(parent[counter])\n",
    "        counter = parent[counter]\n",
    "    #path.append(node_start)\n",
    "    path.reverse()\n",
    "    return path\n",
    "\n",
    "n = int(input('Enter the number of nodes in the graph :- '))\n",
    "graph = {}\n",
    "for i in range(n) :\n",
    "    name = input('Enter the name of the node :- ')\n",
    "    s = input('Enter all the adjascent nodes to this node seperated by a space :-')\n",
    "    if s == '' :\n",
    "        graph[name] = []\n",
    "    else :\n",
    "        adj = list(s.split(' '))\n",
    "        graph[name] = adj\n",
    "node_start = input('Enter the starting node :- ')\n",
    "node_end = input('Enter the ending node :- ')\n",
    "parent = BFS_Traversal(node_start, graph)\n",
    "path = find_Shortest_Path(parent, node_start, node_end)\n",
    "print('The shortest path from', node_start, 'to', node_end, 'is :- ')\n",
    "for i in range(len(path)) :\n",
    "    vertex = path[i]\n",
    "    if i == len(path)-1 :\n",
    "        print(vertex)\n",
    "    else :\n",
    "        print(vertex, end = ' --> ')"
   ]
  },
  {
   "cell_type": "code",
   "execution_count": 2,
   "metadata": {},
   "outputs": [],
   "source": [
    "# Example 1 :- \n",
    "graph_1 = {'z' : ['a'],\n",
    "           'a' : ['s', 'z'],\n",
    "           's' : ['a', 'x'],\n",
    "           'x' : ['s', 'd', 'c'],\n",
    "           'd' : ['x', 'c', 'f'],\n",
    "           'c' : ['d', 'x', 'f', 'v'],\n",
    "           'v' : ['c', 'f'],\n",
    "           'f' : ['d', 'c', 'v']}\n",
    "\n",
    "# Example 2 :-  A disconnected graph.\n",
    "graph_2 = {'a' : ['b', 'd'],\n",
    "           'b' : ['e'],\n",
    "           'd' : ['b'],\n",
    "           'e' : ['d'],\n",
    "           'c' : ['e', 'f'],\n",
    "           'f' : ['f']}"
   ]
  },
  {
   "cell_type": "code",
   "execution_count": null,
   "metadata": {},
   "outputs": [],
   "source": []
  }
 ],
 "metadata": {
  "kernelspec": {
   "display_name": "Python 3",
   "language": "python",
   "name": "python3"
  },
  "language_info": {
   "codemirror_mode": {
    "name": "ipython",
    "version": 3
   },
   "file_extension": ".py",
   "mimetype": "text/x-python",
   "name": "python",
   "nbconvert_exporter": "python",
   "pygments_lexer": "ipython3",
   "version": "3.6.8"
  }
 },
 "nbformat": 4,
 "nbformat_minor": 2
}
