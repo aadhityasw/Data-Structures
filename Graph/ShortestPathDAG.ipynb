{
 "cells": [
  {
   "cell_type": "markdown",
   "metadata": {},
   "source": [
    "# Shortest path in a DAG (Directed Acyclic Graphs)\n",
    "The complexity is O(V+E). <br>\n",
    "We assume the graph to have no non-negative weighted cycles, but the edges may have negative values."
   ]
  },
  {
   "cell_type": "code",
   "execution_count": 9,
   "metadata": {},
   "outputs": [
    {
     "name": "stdin",
     "output_type": "stream",
     "text": [
      "Enter the number of edges in the graph :-  9\n"
     ]
    },
    {
     "name": "stdout",
     "output_type": "stream",
     "text": [
      "Enter the source, destination and the weight of the various edges seperated by a space :\n"
     ]
    },
    {
     "name": "stdin",
     "output_type": "stream",
     "text": [
      "Enter the details of the edge :-  0 1 5\n",
      "Enter the details of the edge :-  0 2 3\n",
      "Enter the details of the edge :-  1 3 6\n",
      "Enter the details of the edge :-  1 2 2\n",
      "Enter the details of the edge :-  2 4 4\n",
      "Enter the details of the edge :-  2 5 2\n",
      "Enter the details of the edge :-  2 3 7\n",
      "Enter the details of the edge :-  3 4 -1\n",
      "Enter the details of the edge :-  4 5 -2\n",
      "Enter the source node :-  1\n"
     ]
    },
    {
     "name": "stdout",
     "output_type": "stream",
     "text": [
      "The shortest paths are :-\n",
      "0 : inf\n",
      "2 : 2\n",
      "3 : 6\n",
      "4 : 5\n",
      "5 : 3\n"
     ]
    }
   ],
   "source": [
    "def topological_Sort(node, graph) :\n",
    "    global visited, stack\n",
    "    visited.append(node)\n",
    "    for vertex in graph[node] :\n",
    "        if vertex[0] not in visited :\n",
    "            topological_Sort(vertex[0], graph)\n",
    "    stack.append(node)\n",
    "    return\n",
    "\n",
    "def shortest_Path(source, graph) :\n",
    "    global visited, stack\n",
    "    for node in graph.keys() :\n",
    "        if node not in visited :\n",
    "            topological_Sort(node, graph)\n",
    "    stack.reverse()\n",
    "    dist = {}\n",
    "    for node in stack :\n",
    "        if node == source :\n",
    "            dist[node] = 0\n",
    "        else :\n",
    "            dist[node] = float('Inf')\n",
    "    for vertex in stack :\n",
    "        for node, weight in graph[vertex] :\n",
    "            if dist[node] > dist[vertex] + weight :\n",
    "                dist[node] = dist[vertex] + weight\n",
    "    return dist\n",
    "\n",
    "def get_Input(graph) :\n",
    "    n = int(input('Enter the number of edges in the graph :- '))\n",
    "    print('Enter the source, destination and the weight of the various edges seperated by a space :')\n",
    "    for i in range(n) :\n",
    "        inp = input('Enter the details of the edge :- ').split(' ')\n",
    "        if inp[0] not in graph :\n",
    "            graph[inp[0]] = []\n",
    "        graph[inp[0]].append((inp[1], int(inp[2])))\n",
    "        if inp[1] not in graph :\n",
    "            graph[inp[1]] = []\n",
    "    source = input('Enter the source node :- ')\n",
    "    return graph, source\n",
    "\n",
    "graph = {}\n",
    "visited = []\n",
    "stack = []\n",
    "graph, source = get_Input(graph)\n",
    "dist = shortest_Path(source, graph)\n",
    "print('The shortest paths are :-')\n",
    "for vertex in dist.items() :\n",
    "    if vertex[0] != source :\n",
    "        print(vertex[0], ':', vertex[1])"
   ]
  },
  {
   "cell_type": "code",
   "execution_count": 6,
   "metadata": {},
   "outputs": [],
   "source": [
    "# Example 1 :\n",
    "graph_1 = {0 : [(1, 5), (2, 3)],\n",
    "           1 : [(3, 6), (2, 2)],\n",
    "           2 : [(4, 4), (5, 2), (3, 7)],\n",
    "           3 : [(4, -1)],\n",
    "           4 : [(5, -2)],\n",
    "           5 : []}\n",
    "source_1 = 1"
   ]
  },
  {
   "cell_type": "code",
   "execution_count": null,
   "metadata": {},
   "outputs": [],
   "source": []
  }
 ],
 "metadata": {
  "kernelspec": {
   "display_name": "Python 3",
   "language": "python",
   "name": "python3"
  },
  "language_info": {
   "codemirror_mode": {
    "name": "ipython",
    "version": 3
   },
   "file_extension": ".py",
   "mimetype": "text/x-python",
   "name": "python",
   "nbconvert_exporter": "python",
   "pygments_lexer": "ipython3",
   "version": "3.6.8"
  }
 },
 "nbformat": 4,
 "nbformat_minor": 2
}
