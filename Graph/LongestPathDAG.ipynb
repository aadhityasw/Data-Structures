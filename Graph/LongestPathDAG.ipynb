{
 "cells": [
  {
   "cell_type": "markdown",
   "metadata": {},
   "source": [
    "# Longest Path in a DAG\n",
    "We assume that there exists an directed acyclic graph, as the solution for a more general case is a NP hard problem."
   ]
  },
  {
   "cell_type": "markdown",
   "metadata": {},
   "source": [
    "## A weighted DAG\n",
    "Using Topological sort."
   ]
  },
  {
   "cell_type": "code",
   "execution_count": null,
   "metadata": {},
   "outputs": [],
   "source": [
    "def topological_Sort(node, graph) :\n",
    "    global visited, stack\n",
    "    visited.append(node)\n",
    "    for vertex in graph[node] :\n",
    "        if vertex[0] not in visited :\n",
    "            topological_Sort(vertex[0], graph)\n",
    "    stack.append(node)\n",
    "    return\n",
    "\n",
    "def get_Input(graph) :\n",
    "    n = int(input('Enter the number of edges in the graph :- '))\n",
    "    print('Enter the source, destination and the weight of the various edges seperated by a space :')\n",
    "    for i in range(n) :\n",
    "        inp = input('Enter the details of the edge :- ').split(' ')\n",
    "        if inp[0] not in graph :\n",
    "            graph[inp[0]] = []\n",
    "        graph[inp[0]].append((inp[1], int(inp[2])))\n",
    "        if inp[1] not in graph :\n",
    "            graph[inp[1]] = []\n",
    "    source = input('Enter the source node :- ')\n",
    "    return graph, source\n",
    "\n",
    "def longest_Path(graph) :\n",
    "    # Topological sorting.\n",
    "    global stack\n",
    "    for node in graph :\n",
    "        if node not in visited :\n",
    "            topological_Sort(node, graph)\n",
    "    stack.reverse()\n",
    "    # Initialization.\n",
    "    dist = {}\n",
    "    for vertex in graph :\n",
    "        dist[vertex] = -1 * float('Inf')\n",
    "    dist[source] = 0\n",
    "    # Finding longest path.\n",
    "    for u in stack :\n",
    "        if dist[u] != (-1*float('inf')) :\n",
    "            for v, w in graph[u] :\n",
    "                if dist[v] < dist[u] + w :\n",
    "                    dist[v] = dist[u] + w\n",
    "    return dist\n",
    "\n",
    "graph = {}\n",
    "visited = []\n",
    "stack = []\n",
    "graph, source = get_Input(graph)\n",
    "dist = longest_Path(graph)\n",
    "print('The longest paths are :-')\n",
    "for vertex in dist.items() :\n",
    "    if vertex[0] != source :\n",
    "        if vertex[1] == (-1*float('inf')) :\n",
    "            print(vertex[0], ':', float('inf'))\n",
    "        else :\n",
    "            print(vertex[0], ':', vertex[1])"
   ]
  },
  {
   "cell_type": "code",
   "execution_count": null,
   "metadata": {},
   "outputs": [],
   "source": [
    "# Example 1 :\n",
    "graph_1 = {'R' : [('S', 5), ('T', 3)],\n",
    "           'S' : [('T', 2), ('X', 6)],\n",
    "           'T' : [('X', 7), ('Y', 4), ('Z', 2)],\n",
    "           'X' : [('Y', -1), ('Z', 1)],\n",
    "           'Y' : [('Z', -2)],\n",
    "           'Z' : []}\n",
    "source_1 = 'S'"
   ]
  },
  {
   "cell_type": "code",
   "execution_count": null,
   "metadata": {},
   "outputs": [],
   "source": []
  }
 ],
 "metadata": {
  "kernelspec": {
   "display_name": "Python 3",
   "language": "python",
   "name": "python3"
  },
  "language_info": {
   "codemirror_mode": {
    "name": "ipython",
    "version": 3
   },
   "file_extension": ".py",
   "mimetype": "text/x-python",
   "name": "python",
   "nbconvert_exporter": "python",
   "pygments_lexer": "ipython3",
   "version": "3.6.8"
  }
 },
 "nbformat": 4,
 "nbformat_minor": 2
}
