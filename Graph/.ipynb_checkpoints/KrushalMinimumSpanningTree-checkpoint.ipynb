{
 "cells": [
  {
   "cell_type": "markdown",
   "metadata": {},
   "source": [
    "# Krushal Minimum Spanning Tree"
   ]
  },
  {
   "cell_type": "code",
   "execution_count": null,
   "metadata": {},
   "outputs": [],
   "source": [
    "def get_Input() :\n",
    "    # Gets the graph from the user.\n",
    "    graph = {}\n",
    "    n = int(input('Enter the number of edges in the graph :- '))\n",
    "    print('Enter the source, destination and the weight of the various edges seperated by a space :')\n",
    "    for i in range(n) :\n",
    "        inp = input('Enter the details of the edge :- ').split(' ')\n",
    "        if inp[0] not in graph :\n",
    "            graph[inp[0]] = []\n",
    "        graph[inp[0]].append((inp[1], int(inp[2])))\n",
    "        if inp[1] not in graph :\n",
    "            graph[inp[1]] = []\n",
    "    return graph\n",
    "\n",
    "def sort_Edges(graph) :\n",
    "    # Sorts the edges in order of its weights.\n",
    "    edges = []\n",
    "    # Stores weight, source and destination of all edges in the graph.\n",
    "    for u in graph :\n",
    "        for v, w in graph[u] :\n",
    "            for s in edges :\n",
    "                if s[0] > w :\n",
    "                    i = edges.index(s)\n",
    "                    edges.insert([w, u, v])\n",
    "                    break\n",
    "    return edges\n",
    "\n"
   ]
  }
 ],
 "metadata": {
  "kernelspec": {
   "display_name": "Python 3",
   "language": "python",
   "name": "python3"
  },
  "language_info": {
   "codemirror_mode": {
    "name": "ipython",
    "version": 3
   },
   "file_extension": ".py",
   "mimetype": "text/x-python",
   "name": "python",
   "nbconvert_exporter": "python",
   "pygments_lexer": "ipython3",
   "version": "3.6.8"
  }
 },
 "nbformat": 4,
 "nbformat_minor": 2
}
