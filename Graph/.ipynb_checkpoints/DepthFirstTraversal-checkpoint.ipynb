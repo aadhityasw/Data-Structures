{
 "cells": [
  {
   "cell_type": "markdown",
   "metadata": {},
   "source": [
    "# Depth First Traversal"
   ]
  },
  {
   "cell_type": "code",
   "execution_count": 1,
   "metadata": {},
   "outputs": [
    {
     "name": "stdin",
     "output_type": "stream",
     "text": [
      "Enter the number of nodes in the graph :-  3\n",
      "Enter the name of the node :-  1\n",
      "Enter all the adjascent nodes to this node seperated by a space :- \n",
      "Enter the name of the node :-  2\n",
      "Enter all the adjascent nodes to this node seperated by a space :- 1\n",
      "Enter the name of the node :-  3\n",
      "Enter all the adjascent nodes to this node seperated by a space :- \n"
     ]
    },
    {
     "name": "stdout",
     "output_type": "stream",
     "text": [
      "The Depth first Traversal is :- \n",
      "1\n",
      "2\n",
      "3\n"
     ]
    }
   ],
   "source": [
    "def DFS_Visit(node, graph) :\n",
    "    global parent\n",
    "    for vertex in graph[node] :\n",
    "        if vertex not in parent :\n",
    "            print(vertex)\n",
    "            if vertex in graph :\n",
    "                parent[vertex] = node\n",
    "                DFS_Visit(vertex, graph)\n",
    "\n",
    "def DFS_Traversal(graph) :\n",
    "    global parent\n",
    "    parent = {}\n",
    "    for vertex in graph :\n",
    "        if vertex not in parent :\n",
    "            print(vertex)\n",
    "            parent[vertex] = None\n",
    "            DFS_Visit(vertex, graph)\n",
    "\n",
    "parent = {}\n",
    "graph = {}\n",
    "n = int(input('Enter the number of nodes in the graph :- '))\n",
    "for i in range(n) :\n",
    "    name = input('Enter the name of the node :- ')\n",
    "    s = input('Enter all the adjascent nodes to this node seperated by a space :-')\n",
    "    if s == '' :\n",
    "        graph[name] = []\n",
    "    else :\n",
    "        adj = list(s.split(' '))\n",
    "        graph[name] = adj\n",
    "print('The Depth first Traversal is :- ')\n",
    "DFS_Traversal(graph)"
   ]
  },
  {
   "cell_type": "code",
   "execution_count": null,
   "metadata": {},
   "outputs": [],
   "source": [
    "# Example 1 :- \n",
    "graph_1 = {'z' : ['a'],\n",
    "           'a' : ['s', 'z'],\n",
    "           's' : ['a', 'x'],\n",
    "           'x' : ['s', 'd', 'c'],\n",
    "           'd' : ['x', 'c', 'f'],\n",
    "           'c' : ['d', 'x', 'f', 'v'],\n",
    "           'v' : ['c', 'f'],\n",
    "           'f' : ['d', 'c', 'v']}\n",
    "\n",
    "# Example 2 :- \n",
    "graph_2 = {'a' : ['b', 'd'],\n",
    "           'b' : ['e'],\n",
    "           'd' : ['b'],\n",
    "           'e' : ['d'],\n",
    "           'c' : ['e', 'f'],\n",
    "           'f' : ['f']}"
   ]
  },
  {
   "cell_type": "code",
   "execution_count": null,
   "metadata": {},
   "outputs": [],
   "source": []
  }
 ],
 "metadata": {
  "kernelspec": {
   "display_name": "Python 3",
   "language": "python",
   "name": "python3"
  },
  "language_info": {
   "codemirror_mode": {
    "name": "ipython",
    "version": 3
   },
   "file_extension": ".py",
   "mimetype": "text/x-python",
   "name": "python",
   "nbconvert_exporter": "python",
   "pygments_lexer": "ipython3",
   "version": "3.6.8"
  }
 },
 "nbformat": 4,
 "nbformat_minor": 2
}
