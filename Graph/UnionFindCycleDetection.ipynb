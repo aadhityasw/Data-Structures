{
 "cells": [
  {
   "cell_type": "markdown",
   "metadata": {},
   "source": [
    "# Union Find Cycle detection\n",
    "To detect the presence of cycles in a graph.<br>\n",
    "This method assumes that the graph doesn’t contain any self-loops."
   ]
  },
  {
   "cell_type": "code",
   "execution_count": 11,
   "metadata": {},
   "outputs": [
    {
     "name": "stdout",
     "output_type": "stream",
     "text": [
      "The graph contains a cycle.\n"
     ]
    }
   ],
   "source": [
    "def find_Parent(node, parent) :\n",
    "    # -1 indicates that there is a self loop for that node.\n",
    "    if parent[node] == -1 :\n",
    "        return node\n",
    "    else :\n",
    "        return find_Parent(parent[node], parent)\n",
    "    return\n",
    "\n",
    "def union(parent, x, y) :\n",
    "    x_set = find_Parent(x, parent)\n",
    "    y_set = find_Parent(y, parent)\n",
    "    parent[x_set] = y_set\n",
    "    return\n",
    "\n",
    "def check_Cyclic(graph) :\n",
    "    parent = {}\n",
    "    for v in graph :\n",
    "        parent[v] = -1\n",
    "    for u in graph :\n",
    "        for v in graph[u] :\n",
    "            x = find_Parent(u, parent)\n",
    "            y = find_Parent(v, parent)\n",
    "            if x == y :\n",
    "                return True\n",
    "            union(parent, x, y)\n",
    "    return False\n",
    "\n",
    "def get_Input() :\n",
    "    graph = {}\n",
    "    n = int(input('Enter the number of nodes in the graph :- '))\n",
    "    for i in range(n) :\n",
    "        name = input('Enter the name of the node :- ')\n",
    "        s = input('Enter all the adjascent nodes to this node seperated by a space :-')\n",
    "        if s == '' :\n",
    "            graph[name] = []\n",
    "        else :\n",
    "            adj = list(s.split(' '))\n",
    "            graph[name] = adj\n",
    "    return graph\n",
    "\n",
    "graph = get_Input()\n",
    "#graph = graph_1\n",
    "if check_Cyclic(graph) :\n",
    "    print('The graph contains a cycle.')\n",
    "else :\n",
    "    print('The graph contains no cycle.')"
   ]
  },
  {
   "cell_type": "markdown",
   "metadata": {},
   "source": [
    "# Using Union by rank and Path Compression"
   ]
  },
  {
   "cell_type": "code",
   "execution_count": 22,
   "metadata": {},
   "outputs": [
    {
     "name": "stdout",
     "output_type": "stream",
     "text": [
      "No Cycle exists in the graph.\n"
     ]
    }
   ],
   "source": [
    "class Nodes :\n",
    "    def __init__(self, parent, rank) :\n",
    "        self.parent = parent\n",
    "        self.rank = rank\n",
    "        return\n",
    "\n",
    "def get_Input() :\n",
    "    graph = {}\n",
    "    n = int(input('Enter the number of nodes in the graph :- '))\n",
    "    for i in range(n) :\n",
    "        name = input('Enter the name of the node :- ')\n",
    "        s = input('Enter all the adjascent nodes to this node seperated by a space :-')\n",
    "        if s == '' :\n",
    "            graph[name] = []\n",
    "        else :\n",
    "            adj = list(s.split(' '))\n",
    "            graph[name] = adj\n",
    "    return graph\n",
    "\n",
    "def find(nodeSet, node) :\n",
    "    if nodeSet[node].parent != node :\n",
    "        nodeSet[node].parent = find(nodeSet, nodeSet[node].parent)\n",
    "    return nodeSet[node].parent\n",
    "\n",
    "def union(nodeSet, x, y) :\n",
    "    # To attach the tree with a smaller rank with the one with a larger rank.\n",
    "    if nodeSet[x].rank > nodeSet[y].rank :\n",
    "        nodeSet[y].parent = x\n",
    "    elif nodeSet[y].rank > nodeSet[x].rank :\n",
    "        nodeSet[x].parent = y\n",
    "    else :\n",
    "        nodeSet[x].parent = y\n",
    "        nodeSet[y].rank += 1\n",
    "    return\n",
    "\n",
    "def detect_Cycle(graph) :\n",
    "    nodeSet = {}\n",
    "    for v in graph :\n",
    "        nodeSet[v] = Nodes(v, 0)\n",
    "    for u in graph :\n",
    "        x = find(nodeSet, u)\n",
    "        for v in graph[u] :\n",
    "            y = find(nodeSet, v)\n",
    "            if x == y :\n",
    "                return True\n",
    "            else :\n",
    "                union(nodeSet, x, y)\n",
    "    return False\n",
    "\n",
    "graph = get_Input()\n",
    "#graph = graph_2\n",
    "if detect_Cycle(graph) :\n",
    "    print('A Cycle exists in the graph.')\n",
    "else :\n",
    "    print('No Cycle exists in the graph.')"
   ]
  },
  {
   "cell_type": "markdown",
   "metadata": {},
   "source": [
    "# Sample Inputs"
   ]
  },
  {
   "cell_type": "code",
   "execution_count": 4,
   "metadata": {},
   "outputs": [],
   "source": [
    "graph_1 = {1 : [2],\n",
    "           2 : [3],\n",
    "           3 : [1]}\n",
    "\n",
    "graph_2 = {1 : [2],\n",
    "           2 : [3],\n",
    "           3 : []}\n",
    "\n",
    "graph_3 = {1 : [2, 3],\n",
    "           2 : [3],\n",
    "           3 : []}"
   ]
  },
  {
   "cell_type": "code",
   "execution_count": null,
   "metadata": {},
   "outputs": [],
   "source": []
  }
 ],
 "metadata": {
  "kernelspec": {
   "display_name": "Python 3",
   "language": "python",
   "name": "python3"
  },
  "language_info": {
   "codemirror_mode": {
    "name": "ipython",
    "version": 3
   },
   "file_extension": ".py",
   "mimetype": "text/x-python",
   "name": "python",
   "nbconvert_exporter": "python",
   "pygments_lexer": "ipython3",
   "version": "3.6.8"
  }
 },
 "nbformat": 4,
 "nbformat_minor": 2
}
