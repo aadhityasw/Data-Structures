{
 "cells": [
  {
   "cell_type": "markdown",
   "metadata": {},
   "source": [
    "# Dijkstra\n",
    "We assume all the edges to have non-negative weights."
   ]
  },
  {
   "cell_type": "code",
   "execution_count": 13,
   "metadata": {},
   "outputs": [
    {
     "name": "stdout",
     "output_type": "stream",
     "text": [
      "The shortest paths from A are :-\n",
      "B : 7\n",
      "C : 3\n",
      "D : 9\n",
      "E : 5\n"
     ]
    }
   ],
   "source": [
    "def dijkstra(graph, source) :\n",
    "    dist = {}\n",
    "    for vertex in graph :\n",
    "        dist[vertex] = float('Inf')\n",
    "    dist[source] = 0\n",
    "    finished = set()\n",
    "    vertices = set(graph.keys())\n",
    "    while vertices :\n",
    "        min_dist = float('inf')\n",
    "        for node in dist :\n",
    "            if dist[node] <= min_dist and node not in finished:\n",
    "                min_node = node\n",
    "                min_dist = dist[node]\n",
    "        finished.add(min_node)\n",
    "        vertices.remove(min_node)\n",
    "        for adj in graph[min_node] :\n",
    "            if dist[adj[0]] > dist[min_node] + adj[1] :\n",
    "                dist[adj[0]] = dist[min_node] + adj[1]\n",
    "    return(dist)\n",
    "        \n",
    "def get_Input(graph) :\n",
    "    n = int(input('Enter the number of edges in the graph :- '))\n",
    "    print('Enter the source, destination and the weight of the various edges seperated by a space :')\n",
    "    for i in range(n) :\n",
    "        inp = input('Enter the details of the edge :- ').split(' ')\n",
    "        if inp[0] not in graph :\n",
    "            graph[inp[0]] = []\n",
    "        graph[inp[0]].append((inp[1], int(inp[2])))\n",
    "        if inp[1] not in graph :\n",
    "            graph[inp[1]] = []\n",
    "    source = input('Enter the source node :- ')\n",
    "    return graph, source\n",
    "\n",
    "graph = {}\n",
    "visited = []\n",
    "stack = []\n",
    "graph, source = get_Input(graph)\n",
    "dist = dijkstra(graph, source)\n",
    "print('The shortest paths from', source, 'are :-')\n",
    "for vertex in dist.items() :\n",
    "    if vertex[0] != source :\n",
    "        print(vertex[0], ':', vertex[1])"
   ]
  },
  {
   "cell_type": "code",
   "execution_count": 3,
   "metadata": {},
   "outputs": [],
   "source": [
    "# Example 1 :\n",
    "graph_1 = {'A' : [('B', 10), ('C', 3)],\n",
    "           'B' : [('C', 1), ('D', 2)],\n",
    "           'C' : [('B', 4), ('E', 2), ('D', 8)],\n",
    "           'D' : [('E', 7)],\n",
    "           'E' : [('D', 9)]}\n",
    "source_1 = 'A'"
   ]
  },
  {
   "cell_type": "code",
   "execution_count": null,
   "metadata": {},
   "outputs": [],
   "source": []
  }
 ],
 "metadata": {
  "kernelspec": {
   "display_name": "Python 3",
   "language": "python",
   "name": "python3"
  },
  "language_info": {
   "codemirror_mode": {
    "name": "ipython",
    "version": 3
   },
   "file_extension": ".py",
   "mimetype": "text/x-python",
   "name": "python",
   "nbconvert_exporter": "python",
   "pygments_lexer": "ipython3",
   "version": "3.6.8"
  }
 },
 "nbformat": 4,
 "nbformat_minor": 2
}