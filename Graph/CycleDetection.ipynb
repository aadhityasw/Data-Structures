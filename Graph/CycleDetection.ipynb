{
 "cells": [
  {
   "cell_type": "markdown",
   "metadata": {},
   "source": [
    "# Cycle Detection using Recursion Stack\n",
    "This program detects the presence of a cycle in a directed graph by using Depth first traversal.<br>\n",
    "To detect a back edge, we can keep track of vertices currently in recursion stack of function for DFS traversal. If we reach a vertex that is already in the recursion stack, then there is a cycle in the tree."
   ]
  },
  {
   "cell_type": "code",
   "execution_count": 9,
   "metadata": {},
   "outputs": [
    {
     "name": "stdout",
     "output_type": "stream",
     "text": [
      "The graph contains a cycle.\n"
     ]
    }
   ],
   "source": [
    "def get_Input() :\n",
    "    graph = {}\n",
    "    n = int(input('Enter the number of nodes in the graph :- '))\n",
    "    for i in range(n) :\n",
    "        name = input('Enter the name of the node :- ')\n",
    "        s = input('Enter all the adjascent nodes to this node seperated by a space :-')\n",
    "        if s == '' :\n",
    "            graph[name] = []\n",
    "        else :\n",
    "            adj = list(s.split(' '))\n",
    "            graph[name] = adj\n",
    "    return graph\n",
    "\n",
    "def check_Cyclic(node, visited, recStack, graph) :\n",
    "    visited.append(node)\n",
    "    recStack.append(node)\n",
    "    for neighbour in graph[node] :\n",
    "        if neighbour not in visited :\n",
    "            if check_Cyclic(neighbour, visited, recStack, graph) :\n",
    "                return True\n",
    "        elif neighbour in recStack :\n",
    "            return True\n",
    "    recStack.remove(node)\n",
    "    return False\n",
    "\n",
    "def process_Vertices(graph) :\n",
    "    visited = []\n",
    "    recStack = []\n",
    "    for vertex in graph :\n",
    "        if vertex not in visited :\n",
    "            if check_Cyclic(vertex, visited, recStack, graph) :\n",
    "                return True\n",
    "    return False\n",
    "\n",
    "#graph = get_Input()\n",
    "graph = graph_1\n",
    "if process_Vertices(graph) :\n",
    "    print('The graph contains a cycle.')\n",
    "else :\n",
    "    print('The graph contains no cycle.')"
   ]
  },
  {
   "cell_type": "code",
   "execution_count": 7,
   "metadata": {},
   "outputs": [],
   "source": [
    "graph_1 = {1 : [2, 3],\n",
    "           2 : [3],\n",
    "           3 : [1, 4],\n",
    "           4 : [4]}\n",
    "\n",
    "graph_2 = {1 : [2],\n",
    "           2 : [3],\n",
    "           3 : []}"
   ]
  },
  {
   "cell_type": "code",
   "execution_count": null,
   "metadata": {},
   "outputs": [],
   "source": []
  }
 ],
 "metadata": {
  "kernelspec": {
   "display_name": "Python 3",
   "language": "python",
   "name": "python3"
  },
  "language_info": {
   "codemirror_mode": {
    "name": "ipython",
    "version": 3
   },
   "file_extension": ".py",
   "mimetype": "text/x-python",
   "name": "python",
   "nbconvert_exporter": "python",
   "pygments_lexer": "ipython3",
   "version": "3.6.8"
  }
 },
 "nbformat": 4,
 "nbformat_minor": 2
}
