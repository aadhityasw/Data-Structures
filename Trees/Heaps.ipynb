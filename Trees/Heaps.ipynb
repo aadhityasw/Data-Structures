{
 "cells": [
  {
   "cell_type": "markdown",
   "metadata": {},
   "source": [
    "# Heaps"
   ]
  },
  {
   "cell_type": "markdown",
   "metadata": {},
   "source": [
    "## Max Heap"
   ]
  },
  {
   "cell_type": "code",
   "execution_count": null,
   "metadata": {},
   "outputs": [],
   "source": [
    "def max_heapify(arr, i) :\n",
    "    n = len(arr)\n",
    "    l = 2*i + 1\n",
    "    r = 2*i + 2\n",
    "    largest = i\n",
    "    \n",
    "    if l<n and arr[largest]<arr[l] :\n",
    "        largest = l\n",
    "    if r<n and arr[largest]<arr[r] :\n",
    "        largest = r\n",
    "    \n",
    "    if largest!=i :\n",
    "        arr[largest], arr[i] = arr[i], arr[largest]\n",
    "        heapify(arr, n, largest)\n",
    "\n",
    "s = input()\n",
    "s = s.split(' ')\n",
    "arr = [int(i) for i in s]\n",
    "n = len(arr)\n",
    "for i in range(n, -1, -1) :\n",
    "    max_heapify(arr, i)\n",
    "print(arr)"
   ]
  },
  {
   "cell_type": "markdown",
   "metadata": {},
   "source": [
    "## Min Heap"
   ]
  },
  {
   "cell_type": "code",
   "execution_count": null,
   "metadata": {},
   "outputs": [],
   "source": [
    "def min_heapify(arr, i) :\n",
    "    n = len(arr)\n",
    "    l = 2*i + 1\n",
    "    r = 2*i + 2\n",
    "    smallest = i\n",
    "    \n",
    "    if l<n and arr[smallest]>arr[l] :\n",
    "        smallest = l\n",
    "    if r<n and arr[smallest]>arr[r] :\n",
    "        smallest = r\n",
    "    \n",
    "    if smallest!=i :\n",
    "        arr[smallest], arr[i] = arr[i], arr[smallest]\n",
    "        heapify(arr, n, smallest)\n",
    "\n",
    "s = input()\n",
    "s = s.split(' ')\n",
    "arr = [int(i) for i in s]\n",
    "n = len(arr)\n",
    "for i in range(n, -1, -1) :\n",
    "    min_heapify(arr, i)\n",
    "print(arr)"
   ]
  },
  {
   "cell_type": "markdown",
   "metadata": {},
   "source": [
    "## Heap Sort"
   ]
  },
  {
   "cell_type": "code",
   "execution_count": null,
   "metadata": {},
   "outputs": [],
   "source": [
    "def heapify(arr, n, i) :\n",
    "    l = 2*i + 1\n",
    "    r = 2*i + 2\n",
    "    largest = i\n",
    "    \n",
    "    if l<n and arr[largest]<arr[l] :\n",
    "        largest = l\n",
    "    if r<n and arr[largest]<arr[r] :\n",
    "        largest = r\n",
    "    \n",
    "    if largest!=i :\n",
    "        arr[largest], arr[i] = arr[i], arr[largest]\n",
    "        heapify(arr, n, largest)\n",
    "\n",
    "\n",
    "def heap_sort(arr) :\n",
    "    n = len(arr)\n",
    "    \n",
    "    for i in range(n, -1, -1) :\n",
    "        heapify(arr, n, i)\n",
    "    \n",
    "    for i in range(n-1, 0, -1) :\n",
    "        arr[0], arr[i] = arr[i], arr[0]\n",
    "        heapify(arr, i, 0)\n",
    "        \n",
    "s = input()\n",
    "s = s.split(' ')\n",
    "arr = [int(i) for i in s]\n",
    "heap_sort(arr)\n",
    "print(arr)"
   ]
  },
  {
   "cell_type": "code",
   "execution_count": null,
   "metadata": {},
   "outputs": [],
   "source": [
    "def heapify(arr, i) :\n",
    "    n = len(arr)\n",
    "    l = 2*i + 1\n",
    "    r = 2*i + 2\n",
    "    largest = i\n",
    "    \n",
    "    if l<n and arr[largest]<arr[l] :\n",
    "        largest = l\n",
    "    if r<n and arr[largest]<arr[r] :\n",
    "        largest = r\n",
    "    \n",
    "    if largest!=i :\n",
    "        arr[largest], arr[i] = arr[i], arr[largest]\n",
    "        heapify(arr, largest)\n",
    "\n",
    "\n",
    "def heap_sort(arr) :\n",
    "    n = len(arr)\n",
    "    \n",
    "    for i in range(n, -1, -1) :\n",
    "        heapify(arr, i)\n",
    "    \n",
    "    arr1 = arr[:]\n",
    "    arr = []\n",
    "    \n",
    "    for i in range(n-1, 0, -1) :\n",
    "        arr1[0], arr1[i] = arr1[i], arr1[0]\n",
    "        arr.append(arr1[i])\n",
    "        arr1 = arr1[:i]\n",
    "        heapify(arr1, 0)\n",
    "    \n",
    "    arr = arr + arr1\n",
    "    arr.reverse()\n",
    "    return(arr)\n",
    "        \n",
    "s = input()\n",
    "s = s.split(' ')\n",
    "arr = [int(i) for i in s]\n",
    "arr = heap_sort(arr)\n",
    "print(arr)"
   ]
  },
  {
   "cell_type": "code",
   "execution_count": null,
   "metadata": {},
   "outputs": [],
   "source": []
  }
 ],
 "metadata": {
  "kernelspec": {
   "display_name": "Python 3",
   "language": "python",
   "name": "python3"
  },
  "language_info": {
   "codemirror_mode": {
    "name": "ipython",
    "version": 3
   },
   "file_extension": ".py",
   "mimetype": "text/x-python",
   "name": "python",
   "nbconvert_exporter": "python",
   "pygments_lexer": "ipython3",
   "version": "3.6.8"
  }
 },
 "nbformat": 4,
 "nbformat_minor": 2
}
